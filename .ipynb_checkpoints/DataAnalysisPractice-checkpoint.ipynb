{
 "cells": [
  {
   "cell_type": "code",
   "execution_count": 138,
   "metadata": {},
   "outputs": [],
   "source": [
    "import sys\n",
    "import numpy as np\n",
    "import pandas as pd\n",
    "import matplotlib.pyplot as plt"
   ]
  },
  {
   "cell_type": "code",
   "execution_count": 139,
   "metadata": {},
   "outputs": [],
   "source": [
    "a = np.array([0,1,2,3])"
   ]
  },
  {
   "cell_type": "code",
   "execution_count": 140,
   "metadata": {},
   "outputs": [
    {
     "data": {
      "text/plain": [
       "array([1, 2, 3])"
      ]
     },
     "execution_count": 140,
     "metadata": {},
     "output_type": "execute_result"
    }
   ],
   "source": [
    "a[1:]"
   ]
  },
  {
   "cell_type": "code",
   "execution_count": 141,
   "metadata": {},
   "outputs": [],
   "source": [
    "b = np.array([[[1,3,5]],[[2,4,6]],[[8,9,3]]])"
   ]
  },
  {
   "cell_type": "code",
   "execution_count": 142,
   "metadata": {},
   "outputs": [
    {
     "data": {
      "text/plain": [
       "3"
      ]
     },
     "execution_count": 142,
     "metadata": {},
     "output_type": "execute_result"
    }
   ],
   "source": [
    "b[0][0][1]"
   ]
  },
  {
   "cell_type": "code",
   "execution_count": 143,
   "metadata": {},
   "outputs": [
    {
     "data": {
      "text/plain": [
       "(3, 1, 3)"
      ]
     },
     "execution_count": 143,
     "metadata": {},
     "output_type": "execute_result"
    }
   ],
   "source": [
    "b.shape"
   ]
  },
  {
   "cell_type": "code",
   "execution_count": 144,
   "metadata": {},
   "outputs": [],
   "source": [
    "l = list(range(1000000))\n",
    "a = np.arange(1000000)"
   ]
  },
  {
   "cell_type": "code",
   "execution_count": 145,
   "metadata": {},
   "outputs": [
    {
     "name": "stdout",
     "output_type": "stream",
     "text": [
      "CPU times: user 379 ms, sys: 18.6 ms, total: 398 ms\n",
      "Wall time: 399 ms\n"
     ]
    },
    {
     "data": {
      "text/plain": [
       "333332833333500000"
      ]
     },
     "execution_count": 145,
     "metadata": {},
     "output_type": "execute_result"
    }
   ],
   "source": [
    "%time sum([x**2 for x in l])"
   ]
  },
  {
   "cell_type": "code",
   "execution_count": 146,
   "metadata": {},
   "outputs": [
    {
     "name": "stdout",
     "output_type": "stream",
     "text": [
      "CPU times: user 3.82 ms, sys: 2.79 ms, total: 6.62 ms\n",
      "Wall time: 4.94 ms\n"
     ]
    },
    {
     "data": {
      "text/plain": [
       "333332833333500000"
      ]
     },
     "execution_count": 146,
     "metadata": {},
     "output_type": "execute_result"
    }
   ],
   "source": [
    "%time np.sum(a**2)"
   ]
  },
  {
   "cell_type": "code",
   "execution_count": 147,
   "metadata": {},
   "outputs": [],
   "source": [
    "S_afr_pop = pd.Series([21,15,10,23,17,45])"
   ]
  },
  {
   "cell_type": "code",
   "execution_count": 148,
   "metadata": {},
   "outputs": [
    {
     "data": {
      "text/plain": [
       "0    21\n",
       "1    15\n",
       "2    10\n",
       "3    23\n",
       "4    17\n",
       "5    45\n",
       "dtype: int64"
      ]
     },
     "execution_count": 148,
     "metadata": {},
     "output_type": "execute_result"
    }
   ],
   "source": [
    "S_afr_pop"
   ]
  },
  {
   "cell_type": "code",
   "execution_count": 149,
   "metadata": {},
   "outputs": [
    {
     "data": {
      "text/plain": [
       "array([21, 15, 10, 23, 17, 45])"
      ]
     },
     "execution_count": 149,
     "metadata": {},
     "output_type": "execute_result"
    }
   ],
   "source": [
    "S_afr_pop.values"
   ]
  },
  {
   "cell_type": "code",
   "execution_count": 150,
   "metadata": {},
   "outputs": [],
   "source": [
    "S_afr_pop.name ='population of southern africa in millions'"
   ]
  },
  {
   "cell_type": "code",
   "execution_count": 151,
   "metadata": {},
   "outputs": [
    {
     "data": {
      "text/plain": [
       "0    21\n",
       "1    15\n",
       "2    10\n",
       "3    23\n",
       "4    17\n",
       "5    45\n",
       "Name: population of southern africa in millions, dtype: int64"
      ]
     },
     "execution_count": 151,
     "metadata": {},
     "output_type": "execute_result"
    }
   ],
   "source": [
    "S_afr_pop"
   ]
  },
  {
   "cell_type": "code",
   "execution_count": 152,
   "metadata": {},
   "outputs": [],
   "source": [
    "S_afr_pop.index = ['Zim','Zam','Bots','MLW','SA','MOZ']"
   ]
  },
  {
   "cell_type": "code",
   "execution_count": 153,
   "metadata": {},
   "outputs": [
    {
     "data": {
      "text/plain": [
       "Zim     21\n",
       "Zam     15\n",
       "Bots    10\n",
       "MLW     23\n",
       "SA      17\n",
       "MOZ     45\n",
       "Name: population of southern africa in millions, dtype: int64"
      ]
     },
     "execution_count": 153,
     "metadata": {},
     "output_type": "execute_result"
    }
   ],
   "source": [
    "S_afr_pop"
   ]
  },
  {
   "cell_type": "code",
   "execution_count": 154,
   "metadata": {},
   "outputs": [
    {
     "data": {
      "text/plain": [
       "21"
      ]
     },
     "execution_count": 154,
     "metadata": {},
     "output_type": "execute_result"
    }
   ],
   "source": [
    "S_afr_pop['Zim']"
   ]
  },
  {
   "cell_type": "code",
   "execution_count": 155,
   "metadata": {},
   "outputs": [
    {
     "data": {
      "text/plain": [
       "15"
      ]
     },
     "execution_count": 155,
     "metadata": {},
     "output_type": "execute_result"
    }
   ],
   "source": [
    "S_afr_pop.iloc[1]"
   ]
  },
  {
   "cell_type": "code",
   "execution_count": 156,
   "metadata": {},
   "outputs": [
    {
     "data": {
      "text/plain": [
       "45"
      ]
     },
     "execution_count": 156,
     "metadata": {},
     "output_type": "execute_result"
    }
   ],
   "source": [
    "S_afr_pop.iloc[-1]"
   ]
  },
  {
   "cell_type": "code",
   "execution_count": 157,
   "metadata": {},
   "outputs": [
    {
     "data": {
      "text/plain": [
       "Zim    21\n",
       "MLW    23\n",
       "Name: population of southern africa in millions, dtype: int64"
      ]
     },
     "execution_count": 157,
     "metadata": {},
     "output_type": "execute_result"
    }
   ],
   "source": [
    "S_afr_pop.iloc[[0,3]]"
   ]
  },
  {
   "cell_type": "code",
   "execution_count": 158,
   "metadata": {},
   "outputs": [
    {
     "data": {
      "text/plain": [
       "Zam     15\n",
       "Bots    10\n",
       "MLW     23\n",
       "SA      17\n",
       "Name: population of southern africa in millions, dtype: int64"
      ]
     },
     "execution_count": 158,
     "metadata": {},
     "output_type": "execute_result"
    }
   ],
   "source": [
    "S_afr_pop['Zam':'SA']  #slicing a series"
   ]
  },
  {
   "cell_type": "code",
   "execution_count": 159,
   "metadata": {},
   "outputs": [],
   "source": [
    "# conditional selection"
   ]
  },
  {
   "cell_type": "code",
   "execution_count": 160,
   "metadata": {},
   "outputs": [
    {
     "data": {
      "text/plain": [
       "21.833333333333332"
      ]
     },
     "execution_count": 160,
     "metadata": {},
     "output_type": "execute_result"
    }
   ],
   "source": [
    "S_afr_pop.mean()"
   ]
  },
  {
   "cell_type": "code",
   "execution_count": 161,
   "metadata": {},
   "outputs": [
    {
     "data": {
      "text/plain": [
       "Zim      True\n",
       "Zam      True\n",
       "Bots    False\n",
       "MLW      True\n",
       "SA       True\n",
       "MOZ      True\n",
       "Name: population of southern africa in millions, dtype: bool"
      ]
     },
     "execution_count": 161,
     "metadata": {},
     "output_type": "execute_result"
    }
   ],
   "source": [
    "S_afr_pop>12"
   ]
  },
  {
   "cell_type": "code",
   "execution_count": 162,
   "metadata": {},
   "outputs": [
    {
     "data": {
      "text/plain": [
       "Zim    21\n",
       "MLW    23\n",
       "MOZ    45\n",
       "Name: population of southern africa in millions, dtype: int64"
      ]
     },
     "execution_count": 162,
     "metadata": {},
     "output_type": "execute_result"
    }
   ],
   "source": [
    "S_afr_pop[S_afr_pop>19]"
   ]
  },
  {
   "cell_type": "code",
   "execution_count": 163,
   "metadata": {},
   "outputs": [
    {
     "data": {
      "text/plain": [
       "MLW    23\n",
       "MOZ    45\n",
       "Name: population of southern africa in millions, dtype: int64"
      ]
     },
     "execution_count": 163,
     "metadata": {},
     "output_type": "execute_result"
    }
   ],
   "source": [
    "S_afr_pop[S_afr_pop>S_afr_pop.mean()]"
   ]
  },
  {
   "cell_type": "code",
   "execution_count": 164,
   "metadata": {},
   "outputs": [
    {
     "data": {
      "text/plain": [
       "12.237919213112441"
      ]
     },
     "execution_count": 164,
     "metadata": {},
     "output_type": "execute_result"
    }
   ],
   "source": [
    "S_afr_pop.std()"
   ]
  },
  {
   "cell_type": "code",
   "execution_count": 165,
   "metadata": {},
   "outputs": [
    {
     "data": {
      "text/plain": [
       "Zim    21\n",
       "MLW    23\n",
       "SA     17\n",
       "MOZ    45\n",
       "Name: population of southern africa in millions, dtype: int64"
      ]
     },
     "execution_count": 165,
     "metadata": {},
     "output_type": "execute_result"
    }
   ],
   "source": [
    "S_afr_pop[(S_afr_pop>S_afr_pop.mean()-S_afr_pop.std()/2) | (S_afr_pop>S_afr_pop.mean()+S_afr_pop.std()/2)]"
   ]
  },
  {
   "cell_type": "code",
   "execution_count": 166,
   "metadata": {},
   "outputs": [],
   "source": [
    "# operations and methods, broadcasting does not change original series"
   ]
  },
  {
   "cell_type": "code",
   "execution_count": 167,
   "metadata": {},
   "outputs": [
    {
     "data": {
      "text/plain": [
       "Zim     2100\n",
       "Zam     1500\n",
       "Bots    1000\n",
       "MLW     2300\n",
       "SA      1700\n",
       "MOZ     4500\n",
       "Name: population of southern africa in millions, dtype: int64"
      ]
     },
     "execution_count": 167,
     "metadata": {},
     "output_type": "execute_result"
    }
   ],
   "source": [
    "S_afr_pop*100"
   ]
  },
  {
   "cell_type": "code",
   "execution_count": 168,
   "metadata": {},
   "outputs": [
    {
     "data": {
      "text/plain": [
       "21.833333333333332"
      ]
     },
     "execution_count": 168,
     "metadata": {},
     "output_type": "execute_result"
    }
   ],
   "source": [
    "S_afr_pop.mean()"
   ]
  },
  {
   "cell_type": "code",
   "execution_count": 169,
   "metadata": {},
   "outputs": [
    {
     "data": {
      "text/plain": [
       "Zim     3.044522\n",
       "Zam     2.708050\n",
       "Bots    2.302585\n",
       "MLW     3.135494\n",
       "SA      2.833213\n",
       "MOZ     3.806662\n",
       "Name: population of southern africa in millions, dtype: float64"
      ]
     },
     "execution_count": 169,
     "metadata": {},
     "output_type": "execute_result"
    }
   ],
   "source": [
    "np.log(S_afr_pop)"
   ]
  },
  {
   "cell_type": "code",
   "execution_count": 170,
   "metadata": {},
   "outputs": [
    {
     "data": {
      "text/plain": [
       "26.5"
      ]
     },
     "execution_count": 170,
     "metadata": {},
     "output_type": "execute_result"
    }
   ],
   "source": [
    "S_afr_pop[(S_afr_pop>S_afr_pop.mean()-S_afr_pop.std()/2) | (S_afr_pop>S_afr_pop.mean()+S_afr_pop.std()/2)].mean()"
   ]
  },
  {
   "cell_type": "code",
   "execution_count": 171,
   "metadata": {},
   "outputs": [],
   "source": [
    "# modifying"
   ]
  },
  {
   "cell_type": "code",
   "execution_count": 172,
   "metadata": {},
   "outputs": [],
   "source": [
    "S_afr_pop['Bots'] = 22.5"
   ]
  },
  {
   "cell_type": "code",
   "execution_count": 173,
   "metadata": {},
   "outputs": [
    {
     "data": {
      "text/plain": [
       "Zim     21\n",
       "Zam     15\n",
       "Bots    22\n",
       "MLW     23\n",
       "SA      17\n",
       "MOZ     45\n",
       "Name: population of southern africa in millions, dtype: int64"
      ]
     },
     "execution_count": 173,
     "metadata": {},
     "output_type": "execute_result"
    }
   ],
   "source": [
    "S_afr_pop"
   ]
  },
  {
   "cell_type": "code",
   "execution_count": 174,
   "metadata": {},
   "outputs": [],
   "source": [
    "S_afr_pop[3:] = 35"
   ]
  },
  {
   "cell_type": "code",
   "execution_count": 175,
   "metadata": {},
   "outputs": [
    {
     "data": {
      "text/plain": [
       "Zim     21\n",
       "Zam     15\n",
       "Bots    22\n",
       "MLW     35\n",
       "SA      35\n",
       "MOZ     35\n",
       "Name: population of southern africa in millions, dtype: int64"
      ]
     },
     "execution_count": 175,
     "metadata": {},
     "output_type": "execute_result"
    }
   ],
   "source": [
    "S_afr_pop"
   ]
  },
  {
   "cell_type": "code",
   "execution_count": 176,
   "metadata": {},
   "outputs": [],
   "source": [
    "S_afr_pop[S_afr_pop>S_afr_pop.mean()] = S_afr_pop.mean()+S_afr_pop.std()"
   ]
  },
  {
   "cell_type": "code",
   "execution_count": 177,
   "metadata": {},
   "outputs": [
    {
     "data": {
      "text/plain": [
       "Zim     21.000000\n",
       "Zam     15.000000\n",
       "Bots    22.000000\n",
       "MLW     36.075464\n",
       "SA      36.075464\n",
       "MOZ     36.075464\n",
       "Name: population of southern africa in millions, dtype: float64"
      ]
     },
     "execution_count": 177,
     "metadata": {},
     "output_type": "execute_result"
    }
   ],
   "source": [
    "S_afr_pop"
   ]
  },
  {
   "cell_type": "code",
   "execution_count": 178,
   "metadata": {},
   "outputs": [],
   "source": [
    "# dataframes"
   ]
  },
  {
   "cell_type": "code",
   "execution_count": 179,
   "metadata": {},
   "outputs": [],
   "source": [
    "df = pd.DataFrame({'pop':[45,32,67,80,35,71], \n",
    "                   'GDP' :[1234,2123,3214,1432,2321,3243],\n",
    "                   'area': [370,234,653,456,524,335], \n",
    "                   'region':['southern africa','southern africa','southern africa','southern africa','southern africa','southern africa']}\n",
    "                 , columns = ['pop','GDP', 'area','region'])"
   ]
  },
  {
   "cell_type": "code",
   "execution_count": 180,
   "metadata": {},
   "outputs": [
    {
     "data": {
      "text/html": [
       "<div>\n",
       "<style scoped>\n",
       "    .dataframe tbody tr th:only-of-type {\n",
       "        vertical-align: middle;\n",
       "    }\n",
       "\n",
       "    .dataframe tbody tr th {\n",
       "        vertical-align: top;\n",
       "    }\n",
       "\n",
       "    .dataframe thead th {\n",
       "        text-align: right;\n",
       "    }\n",
       "</style>\n",
       "<table border=\"1\" class=\"dataframe\">\n",
       "  <thead>\n",
       "    <tr style=\"text-align: right;\">\n",
       "      <th></th>\n",
       "      <th>pop</th>\n",
       "      <th>GDP</th>\n",
       "      <th>area</th>\n",
       "      <th>region</th>\n",
       "    </tr>\n",
       "  </thead>\n",
       "  <tbody>\n",
       "    <tr>\n",
       "      <th>0</th>\n",
       "      <td>45</td>\n",
       "      <td>1234</td>\n",
       "      <td>370</td>\n",
       "      <td>southern africa</td>\n",
       "    </tr>\n",
       "    <tr>\n",
       "      <th>1</th>\n",
       "      <td>32</td>\n",
       "      <td>2123</td>\n",
       "      <td>234</td>\n",
       "      <td>southern africa</td>\n",
       "    </tr>\n",
       "    <tr>\n",
       "      <th>2</th>\n",
       "      <td>67</td>\n",
       "      <td>3214</td>\n",
       "      <td>653</td>\n",
       "      <td>southern africa</td>\n",
       "    </tr>\n",
       "    <tr>\n",
       "      <th>3</th>\n",
       "      <td>80</td>\n",
       "      <td>1432</td>\n",
       "      <td>456</td>\n",
       "      <td>southern africa</td>\n",
       "    </tr>\n",
       "    <tr>\n",
       "      <th>4</th>\n",
       "      <td>35</td>\n",
       "      <td>2321</td>\n",
       "      <td>524</td>\n",
       "      <td>southern africa</td>\n",
       "    </tr>\n",
       "    <tr>\n",
       "      <th>5</th>\n",
       "      <td>71</td>\n",
       "      <td>3243</td>\n",
       "      <td>335</td>\n",
       "      <td>southern africa</td>\n",
       "    </tr>\n",
       "  </tbody>\n",
       "</table>\n",
       "</div>"
      ],
      "text/plain": [
       "   pop   GDP  area           region\n",
       "0   45  1234   370  southern africa\n",
       "1   32  2123   234  southern africa\n",
       "2   67  3214   653  southern africa\n",
       "3   80  1432   456  southern africa\n",
       "4   35  2321   524  southern africa\n",
       "5   71  3243   335  southern africa"
      ]
     },
     "execution_count": 180,
     "metadata": {},
     "output_type": "execute_result"
    }
   ],
   "source": [
    "df"
   ]
  },
  {
   "cell_type": "code",
   "execution_count": 181,
   "metadata": {},
   "outputs": [],
   "source": [
    "df.index = ['Zim','Zam','Bots','MLW','SA','MOZ']"
   ]
  },
  {
   "cell_type": "code",
   "execution_count": 182,
   "metadata": {},
   "outputs": [
    {
     "data": {
      "text/html": [
       "<div>\n",
       "<style scoped>\n",
       "    .dataframe tbody tr th:only-of-type {\n",
       "        vertical-align: middle;\n",
       "    }\n",
       "\n",
       "    .dataframe tbody tr th {\n",
       "        vertical-align: top;\n",
       "    }\n",
       "\n",
       "    .dataframe thead th {\n",
       "        text-align: right;\n",
       "    }\n",
       "</style>\n",
       "<table border=\"1\" class=\"dataframe\">\n",
       "  <thead>\n",
       "    <tr style=\"text-align: right;\">\n",
       "      <th></th>\n",
       "      <th>pop</th>\n",
       "      <th>GDP</th>\n",
       "      <th>area</th>\n",
       "      <th>region</th>\n",
       "    </tr>\n",
       "  </thead>\n",
       "  <tbody>\n",
       "    <tr>\n",
       "      <th>Zim</th>\n",
       "      <td>45</td>\n",
       "      <td>1234</td>\n",
       "      <td>370</td>\n",
       "      <td>southern africa</td>\n",
       "    </tr>\n",
       "    <tr>\n",
       "      <th>Zam</th>\n",
       "      <td>32</td>\n",
       "      <td>2123</td>\n",
       "      <td>234</td>\n",
       "      <td>southern africa</td>\n",
       "    </tr>\n",
       "    <tr>\n",
       "      <th>Bots</th>\n",
       "      <td>67</td>\n",
       "      <td>3214</td>\n",
       "      <td>653</td>\n",
       "      <td>southern africa</td>\n",
       "    </tr>\n",
       "    <tr>\n",
       "      <th>MLW</th>\n",
       "      <td>80</td>\n",
       "      <td>1432</td>\n",
       "      <td>456</td>\n",
       "      <td>southern africa</td>\n",
       "    </tr>\n",
       "    <tr>\n",
       "      <th>SA</th>\n",
       "      <td>35</td>\n",
       "      <td>2321</td>\n",
       "      <td>524</td>\n",
       "      <td>southern africa</td>\n",
       "    </tr>\n",
       "    <tr>\n",
       "      <th>MOZ</th>\n",
       "      <td>71</td>\n",
       "      <td>3243</td>\n",
       "      <td>335</td>\n",
       "      <td>southern africa</td>\n",
       "    </tr>\n",
       "  </tbody>\n",
       "</table>\n",
       "</div>"
      ],
      "text/plain": [
       "      pop   GDP  area           region\n",
       "Zim    45  1234   370  southern africa\n",
       "Zam    32  2123   234  southern africa\n",
       "Bots   67  3214   653  southern africa\n",
       "MLW    80  1432   456  southern africa\n",
       "SA     35  2321   524  southern africa\n",
       "MOZ    71  3243   335  southern africa"
      ]
     },
     "execution_count": 182,
     "metadata": {},
     "output_type": "execute_result"
    }
   ],
   "source": [
    "df"
   ]
  },
  {
   "cell_type": "code",
   "execution_count": 183,
   "metadata": {},
   "outputs": [
    {
     "data": {
      "text/plain": [
       "Index(['pop', 'GDP', 'area', 'region'], dtype='object')"
      ]
     },
     "execution_count": 183,
     "metadata": {},
     "output_type": "execute_result"
    }
   ],
   "source": [
    "df.columns"
   ]
  },
  {
   "cell_type": "code",
   "execution_count": 184,
   "metadata": {},
   "outputs": [
    {
     "data": {
      "text/plain": [
       "Index(['Zim', 'Zam', 'Bots', 'MLW', 'SA', 'MOZ'], dtype='object')"
      ]
     },
     "execution_count": 184,
     "metadata": {},
     "output_type": "execute_result"
    }
   ],
   "source": [
    "df.index"
   ]
  },
  {
   "cell_type": "code",
   "execution_count": 185,
   "metadata": {},
   "outputs": [
    {
     "name": "stdout",
     "output_type": "stream",
     "text": [
      "<class 'pandas.core.frame.DataFrame'>\n",
      "Index: 6 entries, Zim to MOZ\n",
      "Data columns (total 4 columns):\n",
      " #   Column  Non-Null Count  Dtype \n",
      "---  ------  --------------  ----- \n",
      " 0   pop     6 non-null      int64 \n",
      " 1   GDP     6 non-null      int64 \n",
      " 2   area    6 non-null      int64 \n",
      " 3   region  6 non-null      object\n",
      "dtypes: int64(3), object(1)\n",
      "memory usage: 240.0+ bytes\n"
     ]
    }
   ],
   "source": [
    "df.info()"
   ]
  },
  {
   "cell_type": "code",
   "execution_count": 186,
   "metadata": {},
   "outputs": [
    {
     "data": {
      "text/plain": [
       "24"
      ]
     },
     "execution_count": 186,
     "metadata": {},
     "output_type": "execute_result"
    }
   ],
   "source": [
    "df.size"
   ]
  },
  {
   "cell_type": "code",
   "execution_count": 187,
   "metadata": {},
   "outputs": [
    {
     "data": {
      "text/plain": [
       "(6, 4)"
      ]
     },
     "execution_count": 187,
     "metadata": {},
     "output_type": "execute_result"
    }
   ],
   "source": [
    "df.shape"
   ]
  },
  {
   "cell_type": "code",
   "execution_count": 188,
   "metadata": {},
   "outputs": [
    {
     "data": {
      "text/html": [
       "<div>\n",
       "<style scoped>\n",
       "    .dataframe tbody tr th:only-of-type {\n",
       "        vertical-align: middle;\n",
       "    }\n",
       "\n",
       "    .dataframe tbody tr th {\n",
       "        vertical-align: top;\n",
       "    }\n",
       "\n",
       "    .dataframe thead th {\n",
       "        text-align: right;\n",
       "    }\n",
       "</style>\n",
       "<table border=\"1\" class=\"dataframe\">\n",
       "  <thead>\n",
       "    <tr style=\"text-align: right;\">\n",
       "      <th></th>\n",
       "      <th>pop</th>\n",
       "      <th>GDP</th>\n",
       "      <th>area</th>\n",
       "    </tr>\n",
       "  </thead>\n",
       "  <tbody>\n",
       "    <tr>\n",
       "      <th>count</th>\n",
       "      <td>6.000000</td>\n",
       "      <td>6.000000</td>\n",
       "      <td>6.000000</td>\n",
       "    </tr>\n",
       "    <tr>\n",
       "      <th>mean</th>\n",
       "      <td>55.000000</td>\n",
       "      <td>2261.166667</td>\n",
       "      <td>428.666667</td>\n",
       "    </tr>\n",
       "    <tr>\n",
       "      <th>std</th>\n",
       "      <td>20.268202</td>\n",
       "      <td>852.894698</td>\n",
       "      <td>148.506790</td>\n",
       "    </tr>\n",
       "    <tr>\n",
       "      <th>min</th>\n",
       "      <td>32.000000</td>\n",
       "      <td>1234.000000</td>\n",
       "      <td>234.000000</td>\n",
       "    </tr>\n",
       "    <tr>\n",
       "      <th>25%</th>\n",
       "      <td>37.500000</td>\n",
       "      <td>1604.750000</td>\n",
       "      <td>343.750000</td>\n",
       "    </tr>\n",
       "    <tr>\n",
       "      <th>50%</th>\n",
       "      <td>56.000000</td>\n",
       "      <td>2222.000000</td>\n",
       "      <td>413.000000</td>\n",
       "    </tr>\n",
       "    <tr>\n",
       "      <th>75%</th>\n",
       "      <td>70.000000</td>\n",
       "      <td>2990.750000</td>\n",
       "      <td>507.000000</td>\n",
       "    </tr>\n",
       "    <tr>\n",
       "      <th>max</th>\n",
       "      <td>80.000000</td>\n",
       "      <td>3243.000000</td>\n",
       "      <td>653.000000</td>\n",
       "    </tr>\n",
       "  </tbody>\n",
       "</table>\n",
       "</div>"
      ],
      "text/plain": [
       "             pop          GDP        area\n",
       "count   6.000000     6.000000    6.000000\n",
       "mean   55.000000  2261.166667  428.666667\n",
       "std    20.268202   852.894698  148.506790\n",
       "min    32.000000  1234.000000  234.000000\n",
       "25%    37.500000  1604.750000  343.750000\n",
       "50%    56.000000  2222.000000  413.000000\n",
       "75%    70.000000  2990.750000  507.000000\n",
       "max    80.000000  3243.000000  653.000000"
      ]
     },
     "execution_count": 188,
     "metadata": {},
     "output_type": "execute_result"
    }
   ],
   "source": [
    "df.describe()"
   ]
  },
  {
   "cell_type": "code",
   "execution_count": 189,
   "metadata": {},
   "outputs": [
    {
     "data": {
      "text/plain": [
       "pop        int64\n",
       "GDP        int64\n",
       "area       int64\n",
       "region    object\n",
       "dtype: object"
      ]
     },
     "execution_count": 189,
     "metadata": {},
     "output_type": "execute_result"
    }
   ],
   "source": [
    "df.dtypes"
   ]
  },
  {
   "cell_type": "code",
   "execution_count": 190,
   "metadata": {},
   "outputs": [
    {
     "data": {
      "text/plain": [
       "int64     3\n",
       "object    1\n",
       "dtype: int64"
      ]
     },
     "execution_count": 190,
     "metadata": {},
     "output_type": "execute_result"
    }
   ],
   "source": [
    "df.dtypes.value_counts()"
   ]
  },
  {
   "cell_type": "code",
   "execution_count": 191,
   "metadata": {},
   "outputs": [],
   "source": [
    "# indexing, selection, slicing\n",
    "# use loc and iloc to select rows "
   ]
  },
  {
   "cell_type": "code",
   "execution_count": 192,
   "metadata": {},
   "outputs": [
    {
     "data": {
      "text/plain": [
       "Zim     45\n",
       "Zam     32\n",
       "Bots    67\n",
       "MLW     80\n",
       "SA      35\n",
       "MOZ     71\n",
       "Name: pop, dtype: int64"
      ]
     },
     "execution_count": 192,
     "metadata": {},
     "output_type": "execute_result"
    }
   ],
   "source": [
    "df['pop']"
   ]
  },
  {
   "cell_type": "code",
   "execution_count": 193,
   "metadata": {},
   "outputs": [
    {
     "data": {
      "text/html": [
       "<div>\n",
       "<style scoped>\n",
       "    .dataframe tbody tr th:only-of-type {\n",
       "        vertical-align: middle;\n",
       "    }\n",
       "\n",
       "    .dataframe tbody tr th {\n",
       "        vertical-align: top;\n",
       "    }\n",
       "\n",
       "    .dataframe thead th {\n",
       "        text-align: right;\n",
       "    }\n",
       "</style>\n",
       "<table border=\"1\" class=\"dataframe\">\n",
       "  <thead>\n",
       "    <tr style=\"text-align: right;\">\n",
       "      <th></th>\n",
       "      <th>pop</th>\n",
       "    </tr>\n",
       "  </thead>\n",
       "  <tbody>\n",
       "    <tr>\n",
       "      <th>Zim</th>\n",
       "      <td>45</td>\n",
       "    </tr>\n",
       "    <tr>\n",
       "      <th>Zam</th>\n",
       "      <td>32</td>\n",
       "    </tr>\n",
       "    <tr>\n",
       "      <th>Bots</th>\n",
       "      <td>67</td>\n",
       "    </tr>\n",
       "    <tr>\n",
       "      <th>MLW</th>\n",
       "      <td>80</td>\n",
       "    </tr>\n",
       "    <tr>\n",
       "      <th>SA</th>\n",
       "      <td>35</td>\n",
       "    </tr>\n",
       "    <tr>\n",
       "      <th>MOZ</th>\n",
       "      <td>71</td>\n",
       "    </tr>\n",
       "  </tbody>\n",
       "</table>\n",
       "</div>"
      ],
      "text/plain": [
       "      pop\n",
       "Zim    45\n",
       "Zam    32\n",
       "Bots   67\n",
       "MLW    80\n",
       "SA     35\n",
       "MOZ    71"
      ]
     },
     "execution_count": 193,
     "metadata": {},
     "output_type": "execute_result"
    }
   ],
   "source": [
    "df['pop'].to_frame()"
   ]
  },
  {
   "cell_type": "code",
   "execution_count": 194,
   "metadata": {},
   "outputs": [
    {
     "data": {
      "text/html": [
       "<div>\n",
       "<style scoped>\n",
       "    .dataframe tbody tr th:only-of-type {\n",
       "        vertical-align: middle;\n",
       "    }\n",
       "\n",
       "    .dataframe tbody tr th {\n",
       "        vertical-align: top;\n",
       "    }\n",
       "\n",
       "    .dataframe thead th {\n",
       "        text-align: right;\n",
       "    }\n",
       "</style>\n",
       "<table border=\"1\" class=\"dataframe\">\n",
       "  <thead>\n",
       "    <tr style=\"text-align: right;\">\n",
       "      <th></th>\n",
       "      <th>pop</th>\n",
       "      <th>GDP</th>\n",
       "    </tr>\n",
       "  </thead>\n",
       "  <tbody>\n",
       "    <tr>\n",
       "      <th>Zim</th>\n",
       "      <td>45</td>\n",
       "      <td>1234</td>\n",
       "    </tr>\n",
       "    <tr>\n",
       "      <th>Zam</th>\n",
       "      <td>32</td>\n",
       "      <td>2123</td>\n",
       "    </tr>\n",
       "    <tr>\n",
       "      <th>Bots</th>\n",
       "      <td>67</td>\n",
       "      <td>3214</td>\n",
       "    </tr>\n",
       "    <tr>\n",
       "      <th>MLW</th>\n",
       "      <td>80</td>\n",
       "      <td>1432</td>\n",
       "    </tr>\n",
       "    <tr>\n",
       "      <th>SA</th>\n",
       "      <td>35</td>\n",
       "      <td>2321</td>\n",
       "    </tr>\n",
       "    <tr>\n",
       "      <th>MOZ</th>\n",
       "      <td>71</td>\n",
       "      <td>3243</td>\n",
       "    </tr>\n",
       "  </tbody>\n",
       "</table>\n",
       "</div>"
      ],
      "text/plain": [
       "      pop   GDP\n",
       "Zim    45  1234\n",
       "Zam    32  2123\n",
       "Bots   67  3214\n",
       "MLW    80  1432\n",
       "SA     35  2321\n",
       "MOZ    71  3243"
      ]
     },
     "execution_count": 194,
     "metadata": {},
     "output_type": "execute_result"
    }
   ],
   "source": [
    "df[['pop','GDP']]"
   ]
  },
  {
   "cell_type": "code",
   "execution_count": 195,
   "metadata": {},
   "outputs": [
    {
     "data": {
      "text/html": [
       "<div>\n",
       "<style scoped>\n",
       "    .dataframe tbody tr th:only-of-type {\n",
       "        vertical-align: middle;\n",
       "    }\n",
       "\n",
       "    .dataframe tbody tr th {\n",
       "        vertical-align: top;\n",
       "    }\n",
       "\n",
       "    .dataframe thead th {\n",
       "        text-align: right;\n",
       "    }\n",
       "</style>\n",
       "<table border=\"1\" class=\"dataframe\">\n",
       "  <thead>\n",
       "    <tr style=\"text-align: right;\">\n",
       "      <th></th>\n",
       "      <th>pop</th>\n",
       "      <th>GDP</th>\n",
       "      <th>area</th>\n",
       "      <th>region</th>\n",
       "    </tr>\n",
       "  </thead>\n",
       "  <tbody>\n",
       "    <tr>\n",
       "      <th>Zam</th>\n",
       "      <td>32</td>\n",
       "      <td>2123</td>\n",
       "      <td>234</td>\n",
       "      <td>southern africa</td>\n",
       "    </tr>\n",
       "    <tr>\n",
       "      <th>Bots</th>\n",
       "      <td>67</td>\n",
       "      <td>3214</td>\n",
       "      <td>653</td>\n",
       "      <td>southern africa</td>\n",
       "    </tr>\n",
       "    <tr>\n",
       "      <th>MLW</th>\n",
       "      <td>80</td>\n",
       "      <td>1432</td>\n",
       "      <td>456</td>\n",
       "      <td>southern africa</td>\n",
       "    </tr>\n",
       "  </tbody>\n",
       "</table>\n",
       "</div>"
      ],
      "text/plain": [
       "      pop   GDP  area           region\n",
       "Zam    32  2123   234  southern africa\n",
       "Bots   67  3214   653  southern africa\n",
       "MLW    80  1432   456  southern africa"
      ]
     },
     "execution_count": 195,
     "metadata": {},
     "output_type": "execute_result"
    }
   ],
   "source": [
    "df[1:4]"
   ]
  },
  {
   "cell_type": "code",
   "execution_count": 196,
   "metadata": {},
   "outputs": [
    {
     "data": {
      "text/plain": [
       "pop                    45\n",
       "GDP                  1234\n",
       "area                  370\n",
       "region    southern africa\n",
       "Name: Zim, dtype: object"
      ]
     },
     "execution_count": 196,
     "metadata": {},
     "output_type": "execute_result"
    }
   ],
   "source": [
    "df.loc['Zim']"
   ]
  },
  {
   "cell_type": "code",
   "execution_count": 197,
   "metadata": {},
   "outputs": [
    {
     "data": {
      "text/html": [
       "<div>\n",
       "<style scoped>\n",
       "    .dataframe tbody tr th:only-of-type {\n",
       "        vertical-align: middle;\n",
       "    }\n",
       "\n",
       "    .dataframe tbody tr th {\n",
       "        vertical-align: top;\n",
       "    }\n",
       "\n",
       "    .dataframe thead th {\n",
       "        text-align: right;\n",
       "    }\n",
       "</style>\n",
       "<table border=\"1\" class=\"dataframe\">\n",
       "  <thead>\n",
       "    <tr style=\"text-align: right;\">\n",
       "      <th></th>\n",
       "      <th>pop</th>\n",
       "      <th>GDP</th>\n",
       "      <th>area</th>\n",
       "      <th>region</th>\n",
       "    </tr>\n",
       "  </thead>\n",
       "  <tbody>\n",
       "    <tr>\n",
       "      <th>Zam</th>\n",
       "      <td>32</td>\n",
       "      <td>2123</td>\n",
       "      <td>234</td>\n",
       "      <td>southern africa</td>\n",
       "    </tr>\n",
       "    <tr>\n",
       "      <th>Bots</th>\n",
       "      <td>67</td>\n",
       "      <td>3214</td>\n",
       "      <td>653</td>\n",
       "      <td>southern africa</td>\n",
       "    </tr>\n",
       "    <tr>\n",
       "      <th>MLW</th>\n",
       "      <td>80</td>\n",
       "      <td>1432</td>\n",
       "      <td>456</td>\n",
       "      <td>southern africa</td>\n",
       "    </tr>\n",
       "    <tr>\n",
       "      <th>SA</th>\n",
       "      <td>35</td>\n",
       "      <td>2321</td>\n",
       "      <td>524</td>\n",
       "      <td>southern africa</td>\n",
       "    </tr>\n",
       "  </tbody>\n",
       "</table>\n",
       "</div>"
      ],
      "text/plain": [
       "      pop   GDP  area           region\n",
       "Zam    32  2123   234  southern africa\n",
       "Bots   67  3214   653  southern africa\n",
       "MLW    80  1432   456  southern africa\n",
       "SA     35  2321   524  southern africa"
      ]
     },
     "execution_count": 197,
     "metadata": {},
     "output_type": "execute_result"
    }
   ],
   "source": [
    "df.loc['Zam':'SA']"
   ]
  },
  {
   "cell_type": "code",
   "execution_count": 198,
   "metadata": {},
   "outputs": [
    {
     "data": {
      "text/plain": [
       "Zam     2123\n",
       "Bots    3214\n",
       "MLW     1432\n",
       "SA      2321\n",
       "Name: GDP, dtype: int64"
      ]
     },
     "execution_count": 198,
     "metadata": {},
     "output_type": "execute_result"
    }
   ],
   "source": [
    "df.loc['Zam':'SA', 'GDP']"
   ]
  },
  {
   "cell_type": "code",
   "execution_count": 199,
   "metadata": {},
   "outputs": [
    {
     "data": {
      "text/html": [
       "<div>\n",
       "<style scoped>\n",
       "    .dataframe tbody tr th:only-of-type {\n",
       "        vertical-align: middle;\n",
       "    }\n",
       "\n",
       "    .dataframe tbody tr th {\n",
       "        vertical-align: top;\n",
       "    }\n",
       "\n",
       "    .dataframe thead th {\n",
       "        text-align: right;\n",
       "    }\n",
       "</style>\n",
       "<table border=\"1\" class=\"dataframe\">\n",
       "  <thead>\n",
       "    <tr style=\"text-align: right;\">\n",
       "      <th></th>\n",
       "      <th>GDP</th>\n",
       "      <th>area</th>\n",
       "    </tr>\n",
       "  </thead>\n",
       "  <tbody>\n",
       "    <tr>\n",
       "      <th>Zam</th>\n",
       "      <td>2123</td>\n",
       "      <td>234</td>\n",
       "    </tr>\n",
       "    <tr>\n",
       "      <th>Bots</th>\n",
       "      <td>3214</td>\n",
       "      <td>653</td>\n",
       "    </tr>\n",
       "    <tr>\n",
       "      <th>MLW</th>\n",
       "      <td>1432</td>\n",
       "      <td>456</td>\n",
       "    </tr>\n",
       "    <tr>\n",
       "      <th>SA</th>\n",
       "      <td>2321</td>\n",
       "      <td>524</td>\n",
       "    </tr>\n",
       "  </tbody>\n",
       "</table>\n",
       "</div>"
      ],
      "text/plain": [
       "       GDP  area\n",
       "Zam   2123   234\n",
       "Bots  3214   653\n",
       "MLW   1432   456\n",
       "SA    2321   524"
      ]
     },
     "execution_count": 199,
     "metadata": {},
     "output_type": "execute_result"
    }
   ],
   "source": [
    "df.loc['Zam':'SA',['GDP','area']]"
   ]
  },
  {
   "cell_type": "code",
   "execution_count": 200,
   "metadata": {},
   "outputs": [
    {
     "data": {
      "text/plain": [
       "pop                    71\n",
       "GDP                  3243\n",
       "area                  335\n",
       "region    southern africa\n",
       "Name: MOZ, dtype: object"
      ]
     },
     "execution_count": 200,
     "metadata": {},
     "output_type": "execute_result"
    }
   ],
   "source": [
    "df.iloc[-1]"
   ]
  },
  {
   "cell_type": "code",
   "execution_count": 201,
   "metadata": {},
   "outputs": [
    {
     "data": {
      "text/plain": [
       "Zam     southern africa\n",
       "Bots    southern africa\n",
       "Name: region, dtype: object"
      ]
     },
     "execution_count": 201,
     "metadata": {},
     "output_type": "execute_result"
    }
   ],
   "source": [
    "df.iloc[1:3, 3]"
   ]
  },
  {
   "cell_type": "code",
   "execution_count": 202,
   "metadata": {},
   "outputs": [
    {
     "data": {
      "text/html": [
       "<div>\n",
       "<style scoped>\n",
       "    .dataframe tbody tr th:only-of-type {\n",
       "        vertical-align: middle;\n",
       "    }\n",
       "\n",
       "    .dataframe tbody tr th {\n",
       "        vertical-align: top;\n",
       "    }\n",
       "\n",
       "    .dataframe thead th {\n",
       "        text-align: right;\n",
       "    }\n",
       "</style>\n",
       "<table border=\"1\" class=\"dataframe\">\n",
       "  <thead>\n",
       "    <tr style=\"text-align: right;\">\n",
       "      <th></th>\n",
       "      <th>GDP</th>\n",
       "      <th>region</th>\n",
       "    </tr>\n",
       "  </thead>\n",
       "  <tbody>\n",
       "    <tr>\n",
       "      <th>Zam</th>\n",
       "      <td>2123</td>\n",
       "      <td>southern africa</td>\n",
       "    </tr>\n",
       "    <tr>\n",
       "      <th>Bots</th>\n",
       "      <td>3214</td>\n",
       "      <td>southern africa</td>\n",
       "    </tr>\n",
       "  </tbody>\n",
       "</table>\n",
       "</div>"
      ],
      "text/plain": [
       "       GDP           region\n",
       "Zam   2123  southern africa\n",
       "Bots  3214  southern africa"
      ]
     },
     "execution_count": 202,
     "metadata": {},
     "output_type": "execute_result"
    }
   ],
   "source": [
    "df.iloc[1:3, [1, 3]]"
   ]
  },
  {
   "cell_type": "code",
   "execution_count": 203,
   "metadata": {},
   "outputs": [
    {
     "data": {
      "text/plain": [
       "2261.1666666666665"
      ]
     },
     "execution_count": 203,
     "metadata": {},
     "output_type": "execute_result"
    }
   ],
   "source": [
    "df['GDP'].mean()"
   ]
  },
  {
   "cell_type": "code",
   "execution_count": 204,
   "metadata": {},
   "outputs": [
    {
     "data": {
      "text/html": [
       "<div>\n",
       "<style scoped>\n",
       "    .dataframe tbody tr th:only-of-type {\n",
       "        vertical-align: middle;\n",
       "    }\n",
       "\n",
       "    .dataframe tbody tr th {\n",
       "        vertical-align: top;\n",
       "    }\n",
       "\n",
       "    .dataframe thead th {\n",
       "        text-align: right;\n",
       "    }\n",
       "</style>\n",
       "<table border=\"1\" class=\"dataframe\">\n",
       "  <thead>\n",
       "    <tr style=\"text-align: right;\">\n",
       "      <th></th>\n",
       "      <th>pop</th>\n",
       "      <th>GDP</th>\n",
       "      <th>area</th>\n",
       "      <th>region</th>\n",
       "    </tr>\n",
       "  </thead>\n",
       "  <tbody>\n",
       "    <tr>\n",
       "      <th>Bots</th>\n",
       "      <td>67</td>\n",
       "      <td>3214</td>\n",
       "      <td>653</td>\n",
       "      <td>southern africa</td>\n",
       "    </tr>\n",
       "    <tr>\n",
       "      <th>SA</th>\n",
       "      <td>35</td>\n",
       "      <td>2321</td>\n",
       "      <td>524</td>\n",
       "      <td>southern africa</td>\n",
       "    </tr>\n",
       "    <tr>\n",
       "      <th>MOZ</th>\n",
       "      <td>71</td>\n",
       "      <td>3243</td>\n",
       "      <td>335</td>\n",
       "      <td>southern africa</td>\n",
       "    </tr>\n",
       "  </tbody>\n",
       "</table>\n",
       "</div>"
      ],
      "text/plain": [
       "      pop   GDP  area           region\n",
       "Bots   67  3214   653  southern africa\n",
       "SA     35  2321   524  southern africa\n",
       "MOZ    71  3243   335  southern africa"
      ]
     },
     "execution_count": 204,
     "metadata": {},
     "output_type": "execute_result"
    }
   ],
   "source": [
    "df.loc[df['GDP']>df['GDP'].mean()]"
   ]
  },
  {
   "cell_type": "code",
   "execution_count": 205,
   "metadata": {},
   "outputs": [
    {
     "data": {
      "text/plain": [
       "Zim      True\n",
       "Zam      True\n",
       "Bots    False\n",
       "MLW      True\n",
       "SA      False\n",
       "MOZ     False\n",
       "Name: GDP, dtype: bool"
      ]
     },
     "execution_count": 205,
     "metadata": {},
     "output_type": "execute_result"
    }
   ],
   "source": [
    "df['GDP']<df['GDP'].mean()"
   ]
  },
  {
   "cell_type": "code",
   "execution_count": 206,
   "metadata": {},
   "outputs": [
    {
     "data": {
      "text/html": [
       "<div>\n",
       "<style scoped>\n",
       "    .dataframe tbody tr th:only-of-type {\n",
       "        vertical-align: middle;\n",
       "    }\n",
       "\n",
       "    .dataframe tbody tr th {\n",
       "        vertical-align: top;\n",
       "    }\n",
       "\n",
       "    .dataframe thead th {\n",
       "        text-align: right;\n",
       "    }\n",
       "</style>\n",
       "<table border=\"1\" class=\"dataframe\">\n",
       "  <thead>\n",
       "    <tr style=\"text-align: right;\">\n",
       "      <th></th>\n",
       "      <th>pop</th>\n",
       "      <th>GDP</th>\n",
       "      <th>area</th>\n",
       "      <th>region</th>\n",
       "    </tr>\n",
       "  </thead>\n",
       "  <tbody>\n",
       "    <tr>\n",
       "      <th>Zim</th>\n",
       "      <td>45</td>\n",
       "      <td>1234</td>\n",
       "      <td>370</td>\n",
       "      <td>southern africa</td>\n",
       "    </tr>\n",
       "    <tr>\n",
       "      <th>Zam</th>\n",
       "      <td>32</td>\n",
       "      <td>2123</td>\n",
       "      <td>234</td>\n",
       "      <td>southern africa</td>\n",
       "    </tr>\n",
       "    <tr>\n",
       "      <th>MLW</th>\n",
       "      <td>80</td>\n",
       "      <td>1432</td>\n",
       "      <td>456</td>\n",
       "      <td>southern africa</td>\n",
       "    </tr>\n",
       "  </tbody>\n",
       "</table>\n",
       "</div>"
      ],
      "text/plain": [
       "     pop   GDP  area           region\n",
       "Zim   45  1234   370  southern africa\n",
       "Zam   32  2123   234  southern africa\n",
       "MLW   80  1432   456  southern africa"
      ]
     },
     "execution_count": 206,
     "metadata": {},
     "output_type": "execute_result"
    }
   ],
   "source": [
    "df.loc[df['GDP']<df['GDP'].mean()]"
   ]
  },
  {
   "cell_type": "code",
   "execution_count": 207,
   "metadata": {},
   "outputs": [],
   "source": [
    "#dropping stuff, doesn’t change original"
   ]
  },
  {
   "cell_type": "code",
   "execution_count": 208,
   "metadata": {},
   "outputs": [
    {
     "data": {
      "text/html": [
       "<div>\n",
       "<style scoped>\n",
       "    .dataframe tbody tr th:only-of-type {\n",
       "        vertical-align: middle;\n",
       "    }\n",
       "\n",
       "    .dataframe tbody tr th {\n",
       "        vertical-align: top;\n",
       "    }\n",
       "\n",
       "    .dataframe thead th {\n",
       "        text-align: right;\n",
       "    }\n",
       "</style>\n",
       "<table border=\"1\" class=\"dataframe\">\n",
       "  <thead>\n",
       "    <tr style=\"text-align: right;\">\n",
       "      <th></th>\n",
       "      <th>pop</th>\n",
       "      <th>GDP</th>\n",
       "      <th>area</th>\n",
       "      <th>region</th>\n",
       "    </tr>\n",
       "  </thead>\n",
       "  <tbody>\n",
       "    <tr>\n",
       "      <th>Zim</th>\n",
       "      <td>45</td>\n",
       "      <td>1234</td>\n",
       "      <td>370</td>\n",
       "      <td>southern africa</td>\n",
       "    </tr>\n",
       "    <tr>\n",
       "      <th>Bots</th>\n",
       "      <td>67</td>\n",
       "      <td>3214</td>\n",
       "      <td>653</td>\n",
       "      <td>southern africa</td>\n",
       "    </tr>\n",
       "    <tr>\n",
       "      <th>MLW</th>\n",
       "      <td>80</td>\n",
       "      <td>1432</td>\n",
       "      <td>456</td>\n",
       "      <td>southern africa</td>\n",
       "    </tr>\n",
       "    <tr>\n",
       "      <th>SA</th>\n",
       "      <td>35</td>\n",
       "      <td>2321</td>\n",
       "      <td>524</td>\n",
       "      <td>southern africa</td>\n",
       "    </tr>\n",
       "    <tr>\n",
       "      <th>MOZ</th>\n",
       "      <td>71</td>\n",
       "      <td>3243</td>\n",
       "      <td>335</td>\n",
       "      <td>southern africa</td>\n",
       "    </tr>\n",
       "  </tbody>\n",
       "</table>\n",
       "</div>"
      ],
      "text/plain": [
       "      pop   GDP  area           region\n",
       "Zim    45  1234   370  southern africa\n",
       "Bots   67  3214   653  southern africa\n",
       "MLW    80  1432   456  southern africa\n",
       "SA     35  2321   524  southern africa\n",
       "MOZ    71  3243   335  southern africa"
      ]
     },
     "execution_count": 208,
     "metadata": {},
     "output_type": "execute_result"
    }
   ],
   "source": [
    "df.drop(['Zam'])"
   ]
  },
  {
   "cell_type": "code",
   "execution_count": 209,
   "metadata": {},
   "outputs": [
    {
     "data": {
      "text/html": [
       "<div>\n",
       "<style scoped>\n",
       "    .dataframe tbody tr th:only-of-type {\n",
       "        vertical-align: middle;\n",
       "    }\n",
       "\n",
       "    .dataframe tbody tr th {\n",
       "        vertical-align: top;\n",
       "    }\n",
       "\n",
       "    .dataframe thead th {\n",
       "        text-align: right;\n",
       "    }\n",
       "</style>\n",
       "<table border=\"1\" class=\"dataframe\">\n",
       "  <thead>\n",
       "    <tr style=\"text-align: right;\">\n",
       "      <th></th>\n",
       "      <th>pop</th>\n",
       "      <th>GDP</th>\n",
       "      <th>area</th>\n",
       "      <th>region</th>\n",
       "    </tr>\n",
       "  </thead>\n",
       "  <tbody>\n",
       "    <tr>\n",
       "      <th>Zim</th>\n",
       "      <td>45</td>\n",
       "      <td>1234</td>\n",
       "      <td>370</td>\n",
       "      <td>southern africa</td>\n",
       "    </tr>\n",
       "    <tr>\n",
       "      <th>Zam</th>\n",
       "      <td>32</td>\n",
       "      <td>2123</td>\n",
       "      <td>234</td>\n",
       "      <td>southern africa</td>\n",
       "    </tr>\n",
       "    <tr>\n",
       "      <th>Bots</th>\n",
       "      <td>67</td>\n",
       "      <td>3214</td>\n",
       "      <td>653</td>\n",
       "      <td>southern africa</td>\n",
       "    </tr>\n",
       "    <tr>\n",
       "      <th>MLW</th>\n",
       "      <td>80</td>\n",
       "      <td>1432</td>\n",
       "      <td>456</td>\n",
       "      <td>southern africa</td>\n",
       "    </tr>\n",
       "    <tr>\n",
       "      <th>SA</th>\n",
       "      <td>35</td>\n",
       "      <td>2321</td>\n",
       "      <td>524</td>\n",
       "      <td>southern africa</td>\n",
       "    </tr>\n",
       "    <tr>\n",
       "      <th>MOZ</th>\n",
       "      <td>71</td>\n",
       "      <td>3243</td>\n",
       "      <td>335</td>\n",
       "      <td>southern africa</td>\n",
       "    </tr>\n",
       "  </tbody>\n",
       "</table>\n",
       "</div>"
      ],
      "text/plain": [
       "      pop   GDP  area           region\n",
       "Zim    45  1234   370  southern africa\n",
       "Zam    32  2123   234  southern africa\n",
       "Bots   67  3214   653  southern africa\n",
       "MLW    80  1432   456  southern africa\n",
       "SA     35  2321   524  southern africa\n",
       "MOZ    71  3243   335  southern africa"
      ]
     },
     "execution_count": 209,
     "metadata": {},
     "output_type": "execute_result"
    }
   ],
   "source": [
    "df"
   ]
  },
  {
   "cell_type": "code",
   "execution_count": 210,
   "metadata": {},
   "outputs": [
    {
     "data": {
      "text/html": [
       "<div>\n",
       "<style scoped>\n",
       "    .dataframe tbody tr th:only-of-type {\n",
       "        vertical-align: middle;\n",
       "    }\n",
       "\n",
       "    .dataframe tbody tr th {\n",
       "        vertical-align: top;\n",
       "    }\n",
       "\n",
       "    .dataframe thead th {\n",
       "        text-align: right;\n",
       "    }\n",
       "</style>\n",
       "<table border=\"1\" class=\"dataframe\">\n",
       "  <thead>\n",
       "    <tr style=\"text-align: right;\">\n",
       "      <th></th>\n",
       "      <th>pop</th>\n",
       "      <th>GDP</th>\n",
       "      <th>area</th>\n",
       "    </tr>\n",
       "  </thead>\n",
       "  <tbody>\n",
       "    <tr>\n",
       "      <th>Zim</th>\n",
       "      <td>45</td>\n",
       "      <td>1234</td>\n",
       "      <td>370</td>\n",
       "    </tr>\n",
       "    <tr>\n",
       "      <th>Zam</th>\n",
       "      <td>32</td>\n",
       "      <td>2123</td>\n",
       "      <td>234</td>\n",
       "    </tr>\n",
       "    <tr>\n",
       "      <th>Bots</th>\n",
       "      <td>67</td>\n",
       "      <td>3214</td>\n",
       "      <td>653</td>\n",
       "    </tr>\n",
       "    <tr>\n",
       "      <th>MLW</th>\n",
       "      <td>80</td>\n",
       "      <td>1432</td>\n",
       "      <td>456</td>\n",
       "    </tr>\n",
       "    <tr>\n",
       "      <th>SA</th>\n",
       "      <td>35</td>\n",
       "      <td>2321</td>\n",
       "      <td>524</td>\n",
       "    </tr>\n",
       "    <tr>\n",
       "      <th>MOZ</th>\n",
       "      <td>71</td>\n",
       "      <td>3243</td>\n",
       "      <td>335</td>\n",
       "    </tr>\n",
       "  </tbody>\n",
       "</table>\n",
       "</div>"
      ],
      "text/plain": [
       "      pop   GDP  area\n",
       "Zim    45  1234   370\n",
       "Zam    32  2123   234\n",
       "Bots   67  3214   653\n",
       "MLW    80  1432   456\n",
       "SA     35  2321   524\n",
       "MOZ    71  3243   335"
      ]
     },
     "execution_count": 210,
     "metadata": {},
     "output_type": "execute_result"
    }
   ],
   "source": [
    "df.drop(columns=['region'])"
   ]
  },
  {
   "cell_type": "code",
   "execution_count": 211,
   "metadata": {},
   "outputs": [
    {
     "data": {
      "text/html": [
       "<div>\n",
       "<style scoped>\n",
       "    .dataframe tbody tr th:only-of-type {\n",
       "        vertical-align: middle;\n",
       "    }\n",
       "\n",
       "    .dataframe tbody tr th {\n",
       "        vertical-align: top;\n",
       "    }\n",
       "\n",
       "    .dataframe thead th {\n",
       "        text-align: right;\n",
       "    }\n",
       "</style>\n",
       "<table border=\"1\" class=\"dataframe\">\n",
       "  <thead>\n",
       "    <tr style=\"text-align: right;\">\n",
       "      <th></th>\n",
       "      <th>GDP</th>\n",
       "      <th>pop</th>\n",
       "    </tr>\n",
       "  </thead>\n",
       "  <tbody>\n",
       "    <tr>\n",
       "      <th>Zim</th>\n",
       "      <td>123400</td>\n",
       "      <td>4500</td>\n",
       "    </tr>\n",
       "    <tr>\n",
       "      <th>Zam</th>\n",
       "      <td>212300</td>\n",
       "      <td>3200</td>\n",
       "    </tr>\n",
       "    <tr>\n",
       "      <th>Bots</th>\n",
       "      <td>321400</td>\n",
       "      <td>6700</td>\n",
       "    </tr>\n",
       "    <tr>\n",
       "      <th>MLW</th>\n",
       "      <td>143200</td>\n",
       "      <td>8000</td>\n",
       "    </tr>\n",
       "    <tr>\n",
       "      <th>SA</th>\n",
       "      <td>232100</td>\n",
       "      <td>3500</td>\n",
       "    </tr>\n",
       "    <tr>\n",
       "      <th>MOZ</th>\n",
       "      <td>324300</td>\n",
       "      <td>7100</td>\n",
       "    </tr>\n",
       "  </tbody>\n",
       "</table>\n",
       "</div>"
      ],
      "text/plain": [
       "         GDP   pop\n",
       "Zim   123400  4500\n",
       "Zam   212300  3200\n",
       "Bots  321400  6700\n",
       "MLW   143200  8000\n",
       "SA    232100  3500\n",
       "MOZ   324300  7100"
      ]
     },
     "execution_count": 211,
     "metadata": {},
     "output_type": "execute_result"
    }
   ],
   "source": [
    "df[['GDP','pop']]*100"
   ]
  },
  {
   "cell_type": "code",
   "execution_count": 212,
   "metadata": {},
   "outputs": [],
   "source": [
    "inflation = pd.Series([-400], index=['GDP'])"
   ]
  },
  {
   "cell_type": "code",
   "execution_count": 213,
   "metadata": {},
   "outputs": [
    {
     "data": {
      "text/plain": [
       "GDP   -400\n",
       "dtype: int64"
      ]
     },
     "execution_count": 213,
     "metadata": {},
     "output_type": "execute_result"
    }
   ],
   "source": [
    "inflation"
   ]
  },
  {
   "cell_type": "code",
   "execution_count": 214,
   "metadata": {},
   "outputs": [
    {
     "data": {
      "text/html": [
       "<div>\n",
       "<style scoped>\n",
       "    .dataframe tbody tr th:only-of-type {\n",
       "        vertical-align: middle;\n",
       "    }\n",
       "\n",
       "    .dataframe tbody tr th {\n",
       "        vertical-align: top;\n",
       "    }\n",
       "\n",
       "    .dataframe thead th {\n",
       "        text-align: right;\n",
       "    }\n",
       "</style>\n",
       "<table border=\"1\" class=\"dataframe\">\n",
       "  <thead>\n",
       "    <tr style=\"text-align: right;\">\n",
       "      <th></th>\n",
       "      <th>GDP</th>\n",
       "    </tr>\n",
       "  </thead>\n",
       "  <tbody>\n",
       "    <tr>\n",
       "      <th>Zim</th>\n",
       "      <td>1234</td>\n",
       "    </tr>\n",
       "    <tr>\n",
       "      <th>Zam</th>\n",
       "      <td>2123</td>\n",
       "    </tr>\n",
       "    <tr>\n",
       "      <th>Bots</th>\n",
       "      <td>3214</td>\n",
       "    </tr>\n",
       "    <tr>\n",
       "      <th>MLW</th>\n",
       "      <td>1432</td>\n",
       "    </tr>\n",
       "    <tr>\n",
       "      <th>SA</th>\n",
       "      <td>2321</td>\n",
       "    </tr>\n",
       "    <tr>\n",
       "      <th>MOZ</th>\n",
       "      <td>3243</td>\n",
       "    </tr>\n",
       "  </tbody>\n",
       "</table>\n",
       "</div>"
      ],
      "text/plain": [
       "       GDP\n",
       "Zim   1234\n",
       "Zam   2123\n",
       "Bots  3214\n",
       "MLW   1432\n",
       "SA    2321\n",
       "MOZ   3243"
      ]
     },
     "execution_count": 214,
     "metadata": {},
     "output_type": "execute_result"
    }
   ],
   "source": [
    "df[['GDP']]"
   ]
  },
  {
   "cell_type": "code",
   "execution_count": 215,
   "metadata": {},
   "outputs": [
    {
     "data": {
      "text/html": [
       "<div>\n",
       "<style scoped>\n",
       "    .dataframe tbody tr th:only-of-type {\n",
       "        vertical-align: middle;\n",
       "    }\n",
       "\n",
       "    .dataframe tbody tr th {\n",
       "        vertical-align: top;\n",
       "    }\n",
       "\n",
       "    .dataframe thead th {\n",
       "        text-align: right;\n",
       "    }\n",
       "</style>\n",
       "<table border=\"1\" class=\"dataframe\">\n",
       "  <thead>\n",
       "    <tr style=\"text-align: right;\">\n",
       "      <th></th>\n",
       "      <th>GDP</th>\n",
       "    </tr>\n",
       "  </thead>\n",
       "  <tbody>\n",
       "    <tr>\n",
       "      <th>Zim</th>\n",
       "      <td>834</td>\n",
       "    </tr>\n",
       "    <tr>\n",
       "      <th>Zam</th>\n",
       "      <td>1723</td>\n",
       "    </tr>\n",
       "    <tr>\n",
       "      <th>Bots</th>\n",
       "      <td>2814</td>\n",
       "    </tr>\n",
       "    <tr>\n",
       "      <th>MLW</th>\n",
       "      <td>1032</td>\n",
       "    </tr>\n",
       "    <tr>\n",
       "      <th>SA</th>\n",
       "      <td>1921</td>\n",
       "    </tr>\n",
       "    <tr>\n",
       "      <th>MOZ</th>\n",
       "      <td>2843</td>\n",
       "    </tr>\n",
       "  </tbody>\n",
       "</table>\n",
       "</div>"
      ],
      "text/plain": [
       "       GDP\n",
       "Zim    834\n",
       "Zam   1723\n",
       "Bots  2814\n",
       "MLW   1032\n",
       "SA    1921\n",
       "MOZ   2843"
      ]
     },
     "execution_count": 215,
     "metadata": {},
     "output_type": "execute_result"
    }
   ],
   "source": [
    "df[['GDP']]+inflation "
   ]
  },
  {
   "cell_type": "code",
   "execution_count": 216,
   "metadata": {},
   "outputs": [],
   "source": [
    "#add new column"
   ]
  },
  {
   "cell_type": "code",
   "execution_count": 217,
   "metadata": {},
   "outputs": [],
   "source": [
    "capitals = pd.Series(['Hre','Lska','Gbn','Prta','Llng','Mpto'], index =['Zim','Zam','Bots','MLW','SA','MOZ'], name = 'Capital City')"
   ]
  },
  {
   "cell_type": "code",
   "execution_count": 218,
   "metadata": {},
   "outputs": [],
   "source": [
    "df['Capital City'] = capitals"
   ]
  },
  {
   "cell_type": "code",
   "execution_count": 219,
   "metadata": {},
   "outputs": [
    {
     "data": {
      "text/html": [
       "<div>\n",
       "<style scoped>\n",
       "    .dataframe tbody tr th:only-of-type {\n",
       "        vertical-align: middle;\n",
       "    }\n",
       "\n",
       "    .dataframe tbody tr th {\n",
       "        vertical-align: top;\n",
       "    }\n",
       "\n",
       "    .dataframe thead th {\n",
       "        text-align: right;\n",
       "    }\n",
       "</style>\n",
       "<table border=\"1\" class=\"dataframe\">\n",
       "  <thead>\n",
       "    <tr style=\"text-align: right;\">\n",
       "      <th></th>\n",
       "      <th>pop</th>\n",
       "      <th>GDP</th>\n",
       "      <th>area</th>\n",
       "      <th>region</th>\n",
       "      <th>Capital City</th>\n",
       "    </tr>\n",
       "  </thead>\n",
       "  <tbody>\n",
       "    <tr>\n",
       "      <th>Zim</th>\n",
       "      <td>45</td>\n",
       "      <td>1234</td>\n",
       "      <td>370</td>\n",
       "      <td>southern africa</td>\n",
       "      <td>Hre</td>\n",
       "    </tr>\n",
       "    <tr>\n",
       "      <th>Zam</th>\n",
       "      <td>32</td>\n",
       "      <td>2123</td>\n",
       "      <td>234</td>\n",
       "      <td>southern africa</td>\n",
       "      <td>Lska</td>\n",
       "    </tr>\n",
       "    <tr>\n",
       "      <th>Bots</th>\n",
       "      <td>67</td>\n",
       "      <td>3214</td>\n",
       "      <td>653</td>\n",
       "      <td>southern africa</td>\n",
       "      <td>Gbn</td>\n",
       "    </tr>\n",
       "    <tr>\n",
       "      <th>MLW</th>\n",
       "      <td>80</td>\n",
       "      <td>1432</td>\n",
       "      <td>456</td>\n",
       "      <td>southern africa</td>\n",
       "      <td>Prta</td>\n",
       "    </tr>\n",
       "    <tr>\n",
       "      <th>SA</th>\n",
       "      <td>35</td>\n",
       "      <td>2321</td>\n",
       "      <td>524</td>\n",
       "      <td>southern africa</td>\n",
       "      <td>Llng</td>\n",
       "    </tr>\n",
       "    <tr>\n",
       "      <th>MOZ</th>\n",
       "      <td>71</td>\n",
       "      <td>3243</td>\n",
       "      <td>335</td>\n",
       "      <td>southern africa</td>\n",
       "      <td>Mpto</td>\n",
       "    </tr>\n",
       "  </tbody>\n",
       "</table>\n",
       "</div>"
      ],
      "text/plain": [
       "      pop   GDP  area           region Capital City\n",
       "Zim    45  1234   370  southern africa          Hre\n",
       "Zam    32  2123   234  southern africa         Lska\n",
       "Bots   67  3214   653  southern africa          Gbn\n",
       "MLW    80  1432   456  southern africa         Prta\n",
       "SA     35  2321   524  southern africa         Llng\n",
       "MOZ    71  3243   335  southern africa         Mpto"
      ]
     },
     "execution_count": 219,
     "metadata": {},
     "output_type": "execute_result"
    }
   ],
   "source": [
    "df"
   ]
  },
  {
   "cell_type": "code",
   "execution_count": 220,
   "metadata": {},
   "outputs": [],
   "source": [
    "# renaming"
   ]
  },
  {
   "cell_type": "code",
   "execution_count": 221,
   "metadata": {},
   "outputs": [
    {
     "data": {
      "text/html": [
       "<div>\n",
       "<style scoped>\n",
       "    .dataframe tbody tr th:only-of-type {\n",
       "        vertical-align: middle;\n",
       "    }\n",
       "\n",
       "    .dataframe tbody tr th {\n",
       "        vertical-align: top;\n",
       "    }\n",
       "\n",
       "    .dataframe thead th {\n",
       "        text-align: right;\n",
       "    }\n",
       "</style>\n",
       "<table border=\"1\" class=\"dataframe\">\n",
       "  <thead>\n",
       "    <tr style=\"text-align: right;\">\n",
       "      <th></th>\n",
       "      <th>Population</th>\n",
       "      <th>GDP</th>\n",
       "      <th>area</th>\n",
       "      <th>region</th>\n",
       "      <th>Capital City</th>\n",
       "    </tr>\n",
       "  </thead>\n",
       "  <tbody>\n",
       "    <tr>\n",
       "      <th>Zimbabwe</th>\n",
       "      <td>45</td>\n",
       "      <td>1234</td>\n",
       "      <td>370</td>\n",
       "      <td>southern africa</td>\n",
       "      <td>Hre</td>\n",
       "    </tr>\n",
       "    <tr>\n",
       "      <th>Zam</th>\n",
       "      <td>32</td>\n",
       "      <td>2123</td>\n",
       "      <td>234</td>\n",
       "      <td>southern africa</td>\n",
       "      <td>Lska</td>\n",
       "    </tr>\n",
       "    <tr>\n",
       "      <th>Bots</th>\n",
       "      <td>67</td>\n",
       "      <td>3214</td>\n",
       "      <td>653</td>\n",
       "      <td>southern africa</td>\n",
       "      <td>Gbn</td>\n",
       "    </tr>\n",
       "    <tr>\n",
       "      <th>MLW</th>\n",
       "      <td>80</td>\n",
       "      <td>1432</td>\n",
       "      <td>456</td>\n",
       "      <td>southern africa</td>\n",
       "      <td>Prta</td>\n",
       "    </tr>\n",
       "    <tr>\n",
       "      <th>SA</th>\n",
       "      <td>35</td>\n",
       "      <td>2321</td>\n",
       "      <td>524</td>\n",
       "      <td>southern africa</td>\n",
       "      <td>Llng</td>\n",
       "    </tr>\n",
       "    <tr>\n",
       "      <th>MOZ</th>\n",
       "      <td>71</td>\n",
       "      <td>3243</td>\n",
       "      <td>335</td>\n",
       "      <td>southern africa</td>\n",
       "      <td>Mpto</td>\n",
       "    </tr>\n",
       "  </tbody>\n",
       "</table>\n",
       "</div>"
      ],
      "text/plain": [
       "          Population   GDP  area           region Capital City\n",
       "Zimbabwe          45  1234   370  southern africa          Hre\n",
       "Zam               32  2123   234  southern africa         Lska\n",
       "Bots              67  3214   653  southern africa          Gbn\n",
       "MLW               80  1432   456  southern africa         Prta\n",
       "SA                35  2321   524  southern africa         Llng\n",
       "MOZ               71  3243   335  southern africa         Mpto"
      ]
     },
     "execution_count": 221,
     "metadata": {},
     "output_type": "execute_result"
    }
   ],
   "source": [
    "df.rename(columns={'pop':'Population'}, index = {'Zim':'Zimbabwe'})"
   ]
  },
  {
   "cell_type": "code",
   "execution_count": 222,
   "metadata": {},
   "outputs": [],
   "source": [
    "#creating new column from existing ones"
   ]
  },
  {
   "cell_type": "code",
   "execution_count": 223,
   "metadata": {},
   "outputs": [
    {
     "data": {
      "text/plain": [
       "Zim     27.422222\n",
       "Zam     66.343750\n",
       "Bots    47.970149\n",
       "MLW     17.900000\n",
       "SA      66.314286\n",
       "MOZ     45.676056\n",
       "dtype: float64"
      ]
     },
     "execution_count": 223,
     "metadata": {},
     "output_type": "execute_result"
    }
   ],
   "source": [
    "df['GDP'] / df['pop']"
   ]
  },
  {
   "cell_type": "code",
   "execution_count": 224,
   "metadata": {},
   "outputs": [],
   "source": [
    "df['GDP Per Capita'] = df['GDP'] / df['pop']"
   ]
  },
  {
   "cell_type": "code",
   "execution_count": 225,
   "metadata": {},
   "outputs": [
    {
     "data": {
      "text/html": [
       "<div>\n",
       "<style scoped>\n",
       "    .dataframe tbody tr th:only-of-type {\n",
       "        vertical-align: middle;\n",
       "    }\n",
       "\n",
       "    .dataframe tbody tr th {\n",
       "        vertical-align: top;\n",
       "    }\n",
       "\n",
       "    .dataframe thead th {\n",
       "        text-align: right;\n",
       "    }\n",
       "</style>\n",
       "<table border=\"1\" class=\"dataframe\">\n",
       "  <thead>\n",
       "    <tr style=\"text-align: right;\">\n",
       "      <th></th>\n",
       "      <th>pop</th>\n",
       "      <th>GDP</th>\n",
       "      <th>area</th>\n",
       "      <th>region</th>\n",
       "      <th>Capital City</th>\n",
       "      <th>GDP Per Capita</th>\n",
       "    </tr>\n",
       "  </thead>\n",
       "  <tbody>\n",
       "    <tr>\n",
       "      <th>Zim</th>\n",
       "      <td>45</td>\n",
       "      <td>1234</td>\n",
       "      <td>370</td>\n",
       "      <td>southern africa</td>\n",
       "      <td>Hre</td>\n",
       "      <td>27.422222</td>\n",
       "    </tr>\n",
       "    <tr>\n",
       "      <th>Zam</th>\n",
       "      <td>32</td>\n",
       "      <td>2123</td>\n",
       "      <td>234</td>\n",
       "      <td>southern africa</td>\n",
       "      <td>Lska</td>\n",
       "      <td>66.343750</td>\n",
       "    </tr>\n",
       "    <tr>\n",
       "      <th>Bots</th>\n",
       "      <td>67</td>\n",
       "      <td>3214</td>\n",
       "      <td>653</td>\n",
       "      <td>southern africa</td>\n",
       "      <td>Gbn</td>\n",
       "      <td>47.970149</td>\n",
       "    </tr>\n",
       "    <tr>\n",
       "      <th>MLW</th>\n",
       "      <td>80</td>\n",
       "      <td>1432</td>\n",
       "      <td>456</td>\n",
       "      <td>southern africa</td>\n",
       "      <td>Prta</td>\n",
       "      <td>17.900000</td>\n",
       "    </tr>\n",
       "    <tr>\n",
       "      <th>SA</th>\n",
       "      <td>35</td>\n",
       "      <td>2321</td>\n",
       "      <td>524</td>\n",
       "      <td>southern africa</td>\n",
       "      <td>Llng</td>\n",
       "      <td>66.314286</td>\n",
       "    </tr>\n",
       "    <tr>\n",
       "      <th>MOZ</th>\n",
       "      <td>71</td>\n",
       "      <td>3243</td>\n",
       "      <td>335</td>\n",
       "      <td>southern africa</td>\n",
       "      <td>Mpto</td>\n",
       "      <td>45.676056</td>\n",
       "    </tr>\n",
       "  </tbody>\n",
       "</table>\n",
       "</div>"
      ],
      "text/plain": [
       "      pop   GDP  area           region Capital City  GDP Per Capita\n",
       "Zim    45  1234   370  southern africa          Hre       27.422222\n",
       "Zam    32  2123   234  southern africa         Lska       66.343750\n",
       "Bots   67  3214   653  southern africa          Gbn       47.970149\n",
       "MLW    80  1432   456  southern africa         Prta       17.900000\n",
       "SA     35  2321   524  southern africa         Llng       66.314286\n",
       "MOZ    71  3243   335  southern africa         Mpto       45.676056"
      ]
     },
     "execution_count": 225,
     "metadata": {},
     "output_type": "execute_result"
    }
   ],
   "source": [
    "df"
   ]
  },
  {
   "cell_type": "code",
   "execution_count": 226,
   "metadata": {},
   "outputs": [],
   "source": [
    "# plotting and graphing"
   ]
  },
  {
   "cell_type": "code",
   "execution_count": 227,
   "metadata": {},
   "outputs": [
    {
     "data": {
      "text/plain": [
       "<function pandas.io.parsers._make_parser_function.<locals>.parser_f(filepath_or_buffer: Union[str, pathlib.Path, IO[~AnyStr]], sep=',', delimiter=None, header='infer', names=None, index_col=None, usecols=None, squeeze=False, prefix=None, mangle_dupe_cols=True, dtype=None, engine=None, converters=None, true_values=None, false_values=None, skipinitialspace=False, skiprows=None, skipfooter=0, nrows=None, na_values=None, keep_default_na=True, na_filter=True, verbose=False, skip_blank_lines=True, parse_dates=False, infer_datetime_format=False, keep_date_col=False, date_parser=None, dayfirst=False, cache_dates=True, iterator=False, chunksize=None, compression='infer', thousands=None, decimal: str = '.', lineterminator=None, quotechar='\"', quoting=0, doublequote=True, escapechar=None, comment=None, encoding=None, dialect=None, error_bad_lines=True, warn_bad_lines=True, delim_whitespace=False, low_memory=True, memory_map=False, float_precision=None)>"
      ]
     },
     "execution_count": 227,
     "metadata": {},
     "output_type": "execute_result"
    }
   ],
   "source": [
    "pd.read_csv"
   ]
  },
  {
   "cell_type": "code",
   "execution_count": 228,
   "metadata": {},
   "outputs": [
    {
     "data": {
      "text/html": [
       "<div>\n",
       "<style scoped>\n",
       "    .dataframe tbody tr th:only-of-type {\n",
       "        vertical-align: middle;\n",
       "    }\n",
       "\n",
       "    .dataframe tbody tr th {\n",
       "        vertical-align: top;\n",
       "    }\n",
       "\n",
       "    .dataframe thead th {\n",
       "        text-align: right;\n",
       "    }\n",
       "</style>\n",
       "<table border=\"1\" class=\"dataframe\">\n",
       "  <thead>\n",
       "    <tr style=\"text-align: right;\">\n",
       "      <th></th>\n",
       "      <th>pop</th>\n",
       "      <th>GDP</th>\n",
       "      <th>area</th>\n",
       "      <th>region</th>\n",
       "      <th>Capital City</th>\n",
       "      <th>GDP Per Capita</th>\n",
       "    </tr>\n",
       "  </thead>\n",
       "  <tbody>\n",
       "    <tr>\n",
       "      <th>Zim</th>\n",
       "      <td>45</td>\n",
       "      <td>1234</td>\n",
       "      <td>370</td>\n",
       "      <td>southern africa</td>\n",
       "      <td>Hre</td>\n",
       "      <td>27.422222</td>\n",
       "    </tr>\n",
       "    <tr>\n",
       "      <th>Zam</th>\n",
       "      <td>32</td>\n",
       "      <td>2123</td>\n",
       "      <td>234</td>\n",
       "      <td>southern africa</td>\n",
       "      <td>Lska</td>\n",
       "      <td>66.343750</td>\n",
       "    </tr>\n",
       "    <tr>\n",
       "      <th>Bots</th>\n",
       "      <td>67</td>\n",
       "      <td>3214</td>\n",
       "      <td>653</td>\n",
       "      <td>southern africa</td>\n",
       "      <td>Gbn</td>\n",
       "      <td>47.970149</td>\n",
       "    </tr>\n",
       "    <tr>\n",
       "      <th>MLW</th>\n",
       "      <td>80</td>\n",
       "      <td>1432</td>\n",
       "      <td>456</td>\n",
       "      <td>southern africa</td>\n",
       "      <td>Prta</td>\n",
       "      <td>17.900000</td>\n",
       "    </tr>\n",
       "    <tr>\n",
       "      <th>SA</th>\n",
       "      <td>35</td>\n",
       "      <td>2321</td>\n",
       "      <td>524</td>\n",
       "      <td>southern africa</td>\n",
       "      <td>Llng</td>\n",
       "      <td>66.314286</td>\n",
       "    </tr>\n",
       "  </tbody>\n",
       "</table>\n",
       "</div>"
      ],
      "text/plain": [
       "      pop   GDP  area           region Capital City  GDP Per Capita\n",
       "Zim    45  1234   370  southern africa          Hre       27.422222\n",
       "Zam    32  2123   234  southern africa         Lska       66.343750\n",
       "Bots   67  3214   653  southern africa          Gbn       47.970149\n",
       "MLW    80  1432   456  southern africa         Prta       17.900000\n",
       "SA     35  2321   524  southern africa         Llng       66.314286"
      ]
     },
     "execution_count": 228,
     "metadata": {},
     "output_type": "execute_result"
    }
   ],
   "source": [
    "df.head()"
   ]
  },
  {
   "cell_type": "code",
   "execution_count": 229,
   "metadata": {},
   "outputs": [],
   "source": [
    "df = pd.read_csv('Desktop/DATA SCIENCE/market-price.csv')"
   ]
  },
  {
   "cell_type": "code",
   "execution_count": 230,
   "metadata": {},
   "outputs": [
    {
     "data": {
      "text/html": [
       "<div>\n",
       "<style scoped>\n",
       "    .dataframe tbody tr th:only-of-type {\n",
       "        vertical-align: middle;\n",
       "    }\n",
       "\n",
       "    .dataframe tbody tr th {\n",
       "        vertical-align: top;\n",
       "    }\n",
       "\n",
       "    .dataframe thead th {\n",
       "        text-align: right;\n",
       "    }\n",
       "</style>\n",
       "<table border=\"1\" class=\"dataframe\">\n",
       "  <thead>\n",
       "    <tr style=\"text-align: right;\">\n",
       "      <th></th>\n",
       "      <th>2019-07-11 00:00:00</th>\n",
       "      <th>12099.9</th>\n",
       "    </tr>\n",
       "  </thead>\n",
       "  <tbody>\n",
       "    <tr>\n",
       "      <th>0</th>\n",
       "      <td>2019-07-12 00:00:00</td>\n",
       "      <td>11352.87</td>\n",
       "    </tr>\n",
       "    <tr>\n",
       "      <th>1</th>\n",
       "      <td>2019-07-13 00:00:00</td>\n",
       "      <td>11803.97</td>\n",
       "    </tr>\n",
       "    <tr>\n",
       "      <th>2</th>\n",
       "      <td>2019-07-14 00:00:00</td>\n",
       "      <td>11389.10</td>\n",
       "    </tr>\n",
       "    <tr>\n",
       "      <th>3</th>\n",
       "      <td>2019-07-15 00:00:00</td>\n",
       "      <td>10186.96</td>\n",
       "    </tr>\n",
       "    <tr>\n",
       "      <th>4</th>\n",
       "      <td>2019-07-16 00:00:00</td>\n",
       "      <td>10873.50</td>\n",
       "    </tr>\n",
       "  </tbody>\n",
       "</table>\n",
       "</div>"
      ],
      "text/plain": [
       "   2019-07-11 00:00:00   12099.9\n",
       "0  2019-07-12 00:00:00  11352.87\n",
       "1  2019-07-13 00:00:00  11803.97\n",
       "2  2019-07-14 00:00:00  11389.10\n",
       "3  2019-07-15 00:00:00  10186.96\n",
       "4  2019-07-16 00:00:00  10873.50"
      ]
     },
     "execution_count": 230,
     "metadata": {},
     "output_type": "execute_result"
    }
   ],
   "source": [
    "df.head()"
   ]
  },
  {
   "cell_type": "code",
   "execution_count": 231,
   "metadata": {},
   "outputs": [],
   "source": [
    "df = pd.read_csv('Desktop/DATA SCIENCE/market-price.csv', header = None)"
   ]
  },
  {
   "cell_type": "code",
   "execution_count": 232,
   "metadata": {},
   "outputs": [
    {
     "data": {
      "text/html": [
       "<div>\n",
       "<style scoped>\n",
       "    .dataframe tbody tr th:only-of-type {\n",
       "        vertical-align: middle;\n",
       "    }\n",
       "\n",
       "    .dataframe tbody tr th {\n",
       "        vertical-align: top;\n",
       "    }\n",
       "\n",
       "    .dataframe thead th {\n",
       "        text-align: right;\n",
       "    }\n",
       "</style>\n",
       "<table border=\"1\" class=\"dataframe\">\n",
       "  <thead>\n",
       "    <tr style=\"text-align: right;\">\n",
       "      <th></th>\n",
       "      <th>0</th>\n",
       "      <th>1</th>\n",
       "    </tr>\n",
       "  </thead>\n",
       "  <tbody>\n",
       "    <tr>\n",
       "      <th>0</th>\n",
       "      <td>2019-07-11 00:00:00</td>\n",
       "      <td>12099.90</td>\n",
       "    </tr>\n",
       "    <tr>\n",
       "      <th>1</th>\n",
       "      <td>2019-07-12 00:00:00</td>\n",
       "      <td>11352.87</td>\n",
       "    </tr>\n",
       "    <tr>\n",
       "      <th>2</th>\n",
       "      <td>2019-07-13 00:00:00</td>\n",
       "      <td>11803.97</td>\n",
       "    </tr>\n",
       "    <tr>\n",
       "      <th>3</th>\n",
       "      <td>2019-07-14 00:00:00</td>\n",
       "      <td>11389.10</td>\n",
       "    </tr>\n",
       "    <tr>\n",
       "      <th>4</th>\n",
       "      <td>2019-07-15 00:00:00</td>\n",
       "      <td>10186.96</td>\n",
       "    </tr>\n",
       "  </tbody>\n",
       "</table>\n",
       "</div>"
      ],
      "text/plain": [
       "                     0         1\n",
       "0  2019-07-11 00:00:00  12099.90\n",
       "1  2019-07-12 00:00:00  11352.87\n",
       "2  2019-07-13 00:00:00  11803.97\n",
       "3  2019-07-14 00:00:00  11389.10\n",
       "4  2019-07-15 00:00:00  10186.96"
      ]
     },
     "execution_count": 232,
     "metadata": {},
     "output_type": "execute_result"
    }
   ],
   "source": [
    "df.head()"
   ]
  },
  {
   "cell_type": "code",
   "execution_count": 233,
   "metadata": {},
   "outputs": [],
   "source": [
    "df.columns = ['timestamp', 'price']"
   ]
  },
  {
   "cell_type": "code",
   "execution_count": 234,
   "metadata": {},
   "outputs": [
    {
     "data": {
      "text/html": [
       "<div>\n",
       "<style scoped>\n",
       "    .dataframe tbody tr th:only-of-type {\n",
       "        vertical-align: middle;\n",
       "    }\n",
       "\n",
       "    .dataframe tbody tr th {\n",
       "        vertical-align: top;\n",
       "    }\n",
       "\n",
       "    .dataframe thead th {\n",
       "        text-align: right;\n",
       "    }\n",
       "</style>\n",
       "<table border=\"1\" class=\"dataframe\">\n",
       "  <thead>\n",
       "    <tr style=\"text-align: right;\">\n",
       "      <th></th>\n",
       "      <th>timestamp</th>\n",
       "      <th>price</th>\n",
       "    </tr>\n",
       "  </thead>\n",
       "  <tbody>\n",
       "    <tr>\n",
       "      <th>0</th>\n",
       "      <td>2019-07-11 00:00:00</td>\n",
       "      <td>12099.90</td>\n",
       "    </tr>\n",
       "    <tr>\n",
       "      <th>1</th>\n",
       "      <td>2019-07-12 00:00:00</td>\n",
       "      <td>11352.87</td>\n",
       "    </tr>\n",
       "    <tr>\n",
       "      <th>2</th>\n",
       "      <td>2019-07-13 00:00:00</td>\n",
       "      <td>11803.97</td>\n",
       "    </tr>\n",
       "    <tr>\n",
       "      <th>3</th>\n",
       "      <td>2019-07-14 00:00:00</td>\n",
       "      <td>11389.10</td>\n",
       "    </tr>\n",
       "    <tr>\n",
       "      <th>4</th>\n",
       "      <td>2019-07-15 00:00:00</td>\n",
       "      <td>10186.96</td>\n",
       "    </tr>\n",
       "  </tbody>\n",
       "</table>\n",
       "</div>"
      ],
      "text/plain": [
       "             timestamp     price\n",
       "0  2019-07-11 00:00:00  12099.90\n",
       "1  2019-07-12 00:00:00  11352.87\n",
       "2  2019-07-13 00:00:00  11803.97\n",
       "3  2019-07-14 00:00:00  11389.10\n",
       "4  2019-07-15 00:00:00  10186.96"
      ]
     },
     "execution_count": 234,
     "metadata": {},
     "output_type": "execute_result"
    }
   ],
   "source": [
    "df.head()"
   ]
  },
  {
   "cell_type": "code",
   "execution_count": 235,
   "metadata": {},
   "outputs": [
    {
     "name": "stdout",
     "output_type": "stream",
     "text": [
      "<class 'pandas.core.frame.DataFrame'>\n",
      "RangeIndex: 366 entries, 0 to 365\n",
      "Data columns (total 2 columns):\n",
      " #   Column     Non-Null Count  Dtype  \n",
      "---  ------     --------------  -----  \n",
      " 0   timestamp  366 non-null    object \n",
      " 1   price      366 non-null    float64\n",
      "dtypes: float64(1), object(1)\n",
      "memory usage: 5.8+ KB\n"
     ]
    }
   ],
   "source": [
    "df.info()"
   ]
  },
  {
   "cell_type": "code",
   "execution_count": 236,
   "metadata": {},
   "outputs": [
    {
     "data": {
      "text/html": [
       "<div>\n",
       "<style scoped>\n",
       "    .dataframe tbody tr th:only-of-type {\n",
       "        vertical-align: middle;\n",
       "    }\n",
       "\n",
       "    .dataframe tbody tr th {\n",
       "        vertical-align: top;\n",
       "    }\n",
       "\n",
       "    .dataframe thead th {\n",
       "        text-align: right;\n",
       "    }\n",
       "</style>\n",
       "<table border=\"1\" class=\"dataframe\">\n",
       "  <thead>\n",
       "    <tr style=\"text-align: right;\">\n",
       "      <th></th>\n",
       "      <th>price</th>\n",
       "    </tr>\n",
       "  </thead>\n",
       "  <tbody>\n",
       "    <tr>\n",
       "      <th>count</th>\n",
       "      <td>366.000000</td>\n",
       "    </tr>\n",
       "    <tr>\n",
       "      <th>mean</th>\n",
       "      <td>8765.686339</td>\n",
       "    </tr>\n",
       "    <tr>\n",
       "      <th>std</th>\n",
       "      <td>1364.600602</td>\n",
       "    </tr>\n",
       "    <tr>\n",
       "      <th>min</th>\n",
       "      <td>4830.210000</td>\n",
       "    </tr>\n",
       "    <tr>\n",
       "      <th>25%</th>\n",
       "      <td>7637.620000</td>\n",
       "    </tr>\n",
       "    <tr>\n",
       "      <th>50%</th>\n",
       "      <td>8911.835000</td>\n",
       "    </tr>\n",
       "    <tr>\n",
       "      <th>75%</th>\n",
       "      <td>9697.720000</td>\n",
       "    </tr>\n",
       "    <tr>\n",
       "      <th>max</th>\n",
       "      <td>12099.900000</td>\n",
       "    </tr>\n",
       "  </tbody>\n",
       "</table>\n",
       "</div>"
      ],
      "text/plain": [
       "              price\n",
       "count    366.000000\n",
       "mean    8765.686339\n",
       "std     1364.600602\n",
       "min     4830.210000\n",
       "25%     7637.620000\n",
       "50%     8911.835000\n",
       "75%     9697.720000\n",
       "max    12099.900000"
      ]
     },
     "execution_count": 236,
     "metadata": {},
     "output_type": "execute_result"
    }
   ],
   "source": [
    "df.describe()"
   ]
  },
  {
   "cell_type": "code",
   "execution_count": 237,
   "metadata": {},
   "outputs": [
    {
     "data": {
      "text/plain": [
       "(366, 2)"
      ]
     },
     "execution_count": 237,
     "metadata": {},
     "output_type": "execute_result"
    }
   ],
   "source": [
    "df.shape"
   ]
  },
  {
   "cell_type": "code",
   "execution_count": 238,
   "metadata": {},
   "outputs": [
    {
     "data": {
      "text/html": [
       "<div>\n",
       "<style scoped>\n",
       "    .dataframe tbody tr th:only-of-type {\n",
       "        vertical-align: middle;\n",
       "    }\n",
       "\n",
       "    .dataframe tbody tr th {\n",
       "        vertical-align: top;\n",
       "    }\n",
       "\n",
       "    .dataframe thead th {\n",
       "        text-align: right;\n",
       "    }\n",
       "</style>\n",
       "<table border=\"1\" class=\"dataframe\">\n",
       "  <thead>\n",
       "    <tr style=\"text-align: right;\">\n",
       "      <th></th>\n",
       "      <th>timestamp</th>\n",
       "      <th>price</th>\n",
       "    </tr>\n",
       "  </thead>\n",
       "  <tbody>\n",
       "    <tr>\n",
       "      <th>361</th>\n",
       "      <td>2020-07-06 00:00:00</td>\n",
       "      <td>9089.09</td>\n",
       "    </tr>\n",
       "    <tr>\n",
       "      <th>362</th>\n",
       "      <td>2020-07-07 00:00:00</td>\n",
       "      <td>9348.91</td>\n",
       "    </tr>\n",
       "    <tr>\n",
       "      <th>363</th>\n",
       "      <td>2020-07-08 00:00:00</td>\n",
       "      <td>9256.23</td>\n",
       "    </tr>\n",
       "    <tr>\n",
       "      <th>364</th>\n",
       "      <td>2020-07-09 00:00:00</td>\n",
       "      <td>9440.07</td>\n",
       "    </tr>\n",
       "    <tr>\n",
       "      <th>365</th>\n",
       "      <td>2020-07-10 00:00:00</td>\n",
       "      <td>9238.04</td>\n",
       "    </tr>\n",
       "  </tbody>\n",
       "</table>\n",
       "</div>"
      ],
      "text/plain": [
       "               timestamp    price\n",
       "361  2020-07-06 00:00:00  9089.09\n",
       "362  2020-07-07 00:00:00  9348.91\n",
       "363  2020-07-08 00:00:00  9256.23\n",
       "364  2020-07-09 00:00:00  9440.07\n",
       "365  2020-07-10 00:00:00  9238.04"
      ]
     },
     "execution_count": 238,
     "metadata": {},
     "output_type": "execute_result"
    }
   ],
   "source": [
    "#last n rows\n",
    "df.tail(5)"
   ]
  },
  {
   "cell_type": "code",
   "execution_count": 239,
   "metadata": {},
   "outputs": [],
   "source": [
    "df['timestamp'] = pd.to_datetime(df['timestamp'])"
   ]
  },
  {
   "cell_type": "code",
   "execution_count": 240,
   "metadata": {},
   "outputs": [
    {
     "data": {
      "text/html": [
       "<div>\n",
       "<style scoped>\n",
       "    .dataframe tbody tr th:only-of-type {\n",
       "        vertical-align: middle;\n",
       "    }\n",
       "\n",
       "    .dataframe tbody tr th {\n",
       "        vertical-align: top;\n",
       "    }\n",
       "\n",
       "    .dataframe thead th {\n",
       "        text-align: right;\n",
       "    }\n",
       "</style>\n",
       "<table border=\"1\" class=\"dataframe\">\n",
       "  <thead>\n",
       "    <tr style=\"text-align: right;\">\n",
       "      <th></th>\n",
       "      <th>timestamp</th>\n",
       "      <th>price</th>\n",
       "    </tr>\n",
       "  </thead>\n",
       "  <tbody>\n",
       "    <tr>\n",
       "      <th>0</th>\n",
       "      <td>2019-07-11</td>\n",
       "      <td>12099.90</td>\n",
       "    </tr>\n",
       "    <tr>\n",
       "      <th>1</th>\n",
       "      <td>2019-07-12</td>\n",
       "      <td>11352.87</td>\n",
       "    </tr>\n",
       "    <tr>\n",
       "      <th>2</th>\n",
       "      <td>2019-07-13</td>\n",
       "      <td>11803.97</td>\n",
       "    </tr>\n",
       "    <tr>\n",
       "      <th>3</th>\n",
       "      <td>2019-07-14</td>\n",
       "      <td>11389.10</td>\n",
       "    </tr>\n",
       "    <tr>\n",
       "      <th>4</th>\n",
       "      <td>2019-07-15</td>\n",
       "      <td>10186.96</td>\n",
       "    </tr>\n",
       "  </tbody>\n",
       "</table>\n",
       "</div>"
      ],
      "text/plain": [
       "   timestamp     price\n",
       "0 2019-07-11  12099.90\n",
       "1 2019-07-12  11352.87\n",
       "2 2019-07-13  11803.97\n",
       "3 2019-07-14  11389.10\n",
       "4 2019-07-15  10186.96"
      ]
     },
     "execution_count": 240,
     "metadata": {},
     "output_type": "execute_result"
    }
   ],
   "source": [
    "df.head()"
   ]
  },
  {
   "cell_type": "code",
   "execution_count": 241,
   "metadata": {},
   "outputs": [],
   "source": [
    " \n",
    "# make timestamp index to querry price at given time\n"
   ]
  },
  {
   "cell_type": "code",
   "execution_count": 242,
   "metadata": {},
   "outputs": [],
   "source": [
    "df.set_index('timestamp', inplace = True)"
   ]
  },
  {
   "cell_type": "code",
   "execution_count": 243,
   "metadata": {},
   "outputs": [
    {
     "data": {
      "text/html": [
       "<div>\n",
       "<style scoped>\n",
       "    .dataframe tbody tr th:only-of-type {\n",
       "        vertical-align: middle;\n",
       "    }\n",
       "\n",
       "    .dataframe tbody tr th {\n",
       "        vertical-align: top;\n",
       "    }\n",
       "\n",
       "    .dataframe thead th {\n",
       "        text-align: right;\n",
       "    }\n",
       "</style>\n",
       "<table border=\"1\" class=\"dataframe\">\n",
       "  <thead>\n",
       "    <tr style=\"text-align: right;\">\n",
       "      <th></th>\n",
       "      <th>price</th>\n",
       "    </tr>\n",
       "    <tr>\n",
       "      <th>timestamp</th>\n",
       "      <th></th>\n",
       "    </tr>\n",
       "  </thead>\n",
       "  <tbody>\n",
       "    <tr>\n",
       "      <th>2019-07-11</th>\n",
       "      <td>12099.90</td>\n",
       "    </tr>\n",
       "    <tr>\n",
       "      <th>2019-07-12</th>\n",
       "      <td>11352.87</td>\n",
       "    </tr>\n",
       "    <tr>\n",
       "      <th>2019-07-13</th>\n",
       "      <td>11803.97</td>\n",
       "    </tr>\n",
       "    <tr>\n",
       "      <th>2019-07-14</th>\n",
       "      <td>11389.10</td>\n",
       "    </tr>\n",
       "    <tr>\n",
       "      <th>2019-07-15</th>\n",
       "      <td>10186.96</td>\n",
       "    </tr>\n",
       "  </tbody>\n",
       "</table>\n",
       "</div>"
      ],
      "text/plain": [
       "               price\n",
       "timestamp           \n",
       "2019-07-11  12099.90\n",
       "2019-07-12  11352.87\n",
       "2019-07-13  11803.97\n",
       "2019-07-14  11389.10\n",
       "2019-07-15  10186.96"
      ]
     },
     "execution_count": 243,
     "metadata": {},
     "output_type": "execute_result"
    }
   ],
   "source": [
    "df.head()"
   ]
  },
  {
   "cell_type": "code",
   "execution_count": 284,
   "metadata": {},
   "outputs": [
    {
     "data": {
      "text/plain": [
       "price    11803.97\n",
       "Name: 2019-07-13 00:00:00, dtype: float64"
      ]
     },
     "execution_count": 284,
     "metadata": {},
     "output_type": "execute_result"
    }
   ],
   "source": [
    "df.loc['2019-07-13']"
   ]
  },
  {
   "cell_type": "code",
   "execution_count": 285,
   "metadata": {},
   "outputs": [
    {
     "data": {
      "text/plain": [
       "<matplotlib.axes._subplots.AxesSubplot at 0x7f96fd9a0820>"
      ]
     },
     "execution_count": 285,
     "metadata": {},
     "output_type": "execute_result"
    },
    {
     "data": {
      "image/png": "[encoded data removed]",
      "text/plain": [
       "<Figure size 432x288 with 1 Axes>"
      ]
     },
     "metadata": {
      "needs_background": "light"
     },
     "output_type": "display_data"
    }
   ],
   "source": [
    "df.plot()"
   ]
  },
  {
   "cell_type": "code",
   "execution_count": 286,
   "metadata": {},
   "outputs": [],
   "source": [
    "df1 = pd.read_csv('Desktop/DATA SCIENCE/export-EtherPrice.csv', header = 0)"
   ]
  },
  {
   "cell_type": "code",
   "execution_count": 287,
   "metadata": {},
   "outputs": [
    {
     "data": {
      "text/html": [
       "<div>\n",
       "<style scoped>\n",
       "    .dataframe tbody tr th:only-of-type {\n",
       "        vertical-align: middle;\n",
       "    }\n",
       "\n",
       "    .dataframe tbody tr th {\n",
       "        vertical-align: top;\n",
       "    }\n",
       "\n",
       "    .dataframe thead th {\n",
       "        text-align: right;\n",
       "    }\n",
       "</style>\n",
       "<table border=\"1\" class=\"dataframe\">\n",
       "  <thead>\n",
       "    <tr style=\"text-align: right;\">\n",
       "      <th></th>\n",
       "      <th>Date(UTC)</th>\n",
       "      <th>UnixTimeStamp</th>\n",
       "      <th>Value</th>\n",
       "    </tr>\n",
       "  </thead>\n",
       "  <tbody>\n",
       "    <tr>\n",
       "      <th>0</th>\n",
       "      <td>7/30/2015</td>\n",
       "      <td>1438214400</td>\n",
       "      <td>0.0</td>\n",
       "    </tr>\n",
       "    <tr>\n",
       "      <th>1</th>\n",
       "      <td>7/31/2015</td>\n",
       "      <td>1438300800</td>\n",
       "      <td>0.0</td>\n",
       "    </tr>\n",
       "    <tr>\n",
       "      <th>2</th>\n",
       "      <td>8/1/2015</td>\n",
       "      <td>1438387200</td>\n",
       "      <td>0.0</td>\n",
       "    </tr>\n",
       "    <tr>\n",
       "      <th>3</th>\n",
       "      <td>8/2/2015</td>\n",
       "      <td>1438473600</td>\n",
       "      <td>0.0</td>\n",
       "    </tr>\n",
       "    <tr>\n",
       "      <th>4</th>\n",
       "      <td>8/3/2015</td>\n",
       "      <td>1438560000</td>\n",
       "      <td>0.0</td>\n",
       "    </tr>\n",
       "  </tbody>\n",
       "</table>\n",
       "</div>"
      ],
      "text/plain": [
       "   Date(UTC)  UnixTimeStamp  Value\n",
       "0  7/30/2015     1438214400    0.0\n",
       "1  7/31/2015     1438300800    0.0\n",
       "2   8/1/2015     1438387200    0.0\n",
       "3   8/2/2015     1438473600    0.0\n",
       "4   8/3/2015     1438560000    0.0"
      ]
     },
     "execution_count": 287,
     "metadata": {},
     "output_type": "execute_result"
    }
   ],
   "source": [
    "df1.head()"
   ]
  },
  {
   "cell_type": "code",
   "execution_count": 288,
   "metadata": {},
   "outputs": [
    {
     "data": {
      "text/plain": [
       "(1807, 3)"
      ]
     },
     "execution_count": 288,
     "metadata": {},
     "output_type": "execute_result"
    }
   ],
   "source": [
    "df1.shape"
   ]
  },
  {
   "cell_type": "markdown",
   "metadata": {},
   "source": [
    "pd.to_datetime(df1['timestamp']).head()"
   ]
  },
  {
   "cell_type": "markdown",
   "metadata": {},
   "source": [
    "df1.info()"
   ]
  },
  {
   "cell_type": "code",
   "execution_count": 289,
   "metadata": {},
   "outputs": [],
   "source": [
    "df1['Date(UTC)'] = pd.to_datetime(df1['Date(UTC)'])"
   ]
  },
  {
   "cell_type": "code",
   "execution_count": 292,
   "metadata": {},
   "outputs": [],
   "source": [
    "df1.set_index('Date(UTC)', inplace = True)"
   ]
  },
  {
   "cell_type": "code",
   "execution_count": 293,
   "metadata": {},
   "outputs": [
    {
     "data": {
      "text/html": [
       "<div>\n",
       "<style scoped>\n",
       "    .dataframe tbody tr th:only-of-type {\n",
       "        vertical-align: middle;\n",
       "    }\n",
       "\n",
       "    .dataframe tbody tr th {\n",
       "        vertical-align: top;\n",
       "    }\n",
       "\n",
       "    .dataframe thead th {\n",
       "        text-align: right;\n",
       "    }\n",
       "</style>\n",
       "<table border=\"1\" class=\"dataframe\">\n",
       "  <thead>\n",
       "    <tr style=\"text-align: right;\">\n",
       "      <th></th>\n",
       "      <th>UnixTimeStamp</th>\n",
       "      <th>Value</th>\n",
       "    </tr>\n",
       "    <tr>\n",
       "      <th>Date(UTC)</th>\n",
       "      <th></th>\n",
       "      <th></th>\n",
       "    </tr>\n",
       "  </thead>\n",
       "  <tbody>\n",
       "    <tr>\n",
       "      <th>2015-07-30</th>\n",
       "      <td>1438214400</td>\n",
       "      <td>0.00</td>\n",
       "    </tr>\n",
       "    <tr>\n",
       "      <th>2015-07-31</th>\n",
       "      <td>1438300800</td>\n",
       "      <td>0.00</td>\n",
       "    </tr>\n",
       "    <tr>\n",
       "      <th>2015-08-01</th>\n",
       "      <td>1438387200</td>\n",
       "      <td>0.00</td>\n",
       "    </tr>\n",
       "    <tr>\n",
       "      <th>2015-08-02</th>\n",
       "      <td>1438473600</td>\n",
       "      <td>0.00</td>\n",
       "    </tr>\n",
       "    <tr>\n",
       "      <th>2015-08-03</th>\n",
       "      <td>1438560000</td>\n",
       "      <td>0.00</td>\n",
       "    </tr>\n",
       "    <tr>\n",
       "      <th>...</th>\n",
       "      <td>...</td>\n",
       "      <td>...</td>\n",
       "    </tr>\n",
       "    <tr>\n",
       "      <th>2020-07-05</th>\n",
       "      <td>1593907200</td>\n",
       "      <td>228.03</td>\n",
       "    </tr>\n",
       "    <tr>\n",
       "      <th>2020-07-06</th>\n",
       "      <td>1593993600</td>\n",
       "      <td>241.76</td>\n",
       "    </tr>\n",
       "    <tr>\n",
       "      <th>2020-07-07</th>\n",
       "      <td>1594080000</td>\n",
       "      <td>239.35</td>\n",
       "    </tr>\n",
       "    <tr>\n",
       "      <th>2020-07-08</th>\n",
       "      <td>1594166400</td>\n",
       "      <td>247.11</td>\n",
       "    </tr>\n",
       "    <tr>\n",
       "      <th>2020-07-09</th>\n",
       "      <td>1594252800</td>\n",
       "      <td>240.34</td>\n",
       "    </tr>\n",
       "  </tbody>\n",
       "</table>\n",
       "<p>1807 rows × 2 columns</p>\n",
       "</div>"
      ],
      "text/plain": [
       "            UnixTimeStamp   Value\n",
       "Date(UTC)                        \n",
       "2015-07-30     1438214400    0.00\n",
       "2015-07-31     1438300800    0.00\n",
       "2015-08-01     1438387200    0.00\n",
       "2015-08-02     1438473600    0.00\n",
       "2015-08-03     1438560000    0.00\n",
       "...                   ...     ...\n",
       "2020-07-05     1593907200  228.03\n",
       "2020-07-06     1593993600  241.76\n",
       "2020-07-07     1594080000  239.35\n",
       "2020-07-08     1594166400  247.11\n",
       "2020-07-09     1594252800  240.34\n",
       "\n",
       "[1807 rows x 2 columns]"
      ]
     },
     "execution_count": 293,
     "metadata": {},
     "output_type": "execute_result"
    }
   ],
   "source": [
    "df1"
   ]
  },
  {
   "cell_type": "code",
   "execution_count": null,
   "metadata": {},
   "outputs": [],
   "source": []
  }
 ],
 "metadata": {
  "kernelspec": {
   "display_name": "Python 3",
   "language": "python",
   "name": "python3"
  },
  "language_info": {
   "codemirror_mode": {
    "name": "ipython",
    "version": 3
   },
   "file_extension": ".py",
   "mimetype": "text/x-python",
   "name": "python",
   "nbconvert_exporter": "python",
   "pygments_lexer": "ipython3",
   "version": "3.8.1"
  }
 },
 "nbformat": 4,
 "nbformat_minor": 4
}
